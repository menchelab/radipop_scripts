{
 "cells": [
  {
   "cell_type": "code",
   "execution_count": 1,
   "metadata": {},
   "outputs": [
    {
     "name": "stdout",
     "output_type": "stream",
     "text": [
      "2023-06-21 14:48:54.438275\n"
     ]
    }
   ],
   "source": [
    "import pickle\n",
    "import pandas as pd\n",
    "import numpy as np\n",
    "import matplotlib.pyplot as plt\n",
    "\n",
    "from sklearn.ensemble import RandomForestClassifier\n",
    "from sklearn.preprocessing import label_binarize\n",
    "from sklearn.metrics import roc_curve, plot_roc_curve, roc_auc_score, auc\n",
    "from sklearn.metrics import precision_score, confusion_matrix\n",
    "\n",
    "import time\n",
    "import datetime\n",
    "\n",
    "print(datetime.datetime.now())"
   ]
  },
  {
   "cell_type": "code",
   "execution_count": 2,
   "metadata": {},
   "outputs": [],
   "source": [
    "path_data = '../data/d20220201/'\n",
    "\n",
    "# INPUTS\n",
    "fn_finalSave = path_data + 'featuresAndMeta_s20220720.p'\n",
    "fn_trainingResults = path_data + 'trainingResults_binary80_s20230504.p'\n",
    "\n",
    "# OUTPUTS\n",
    "fn_predictionsValidation = path_data + 'predictionscACLD_binary_s20230508.xlsx'\n",
    "fn_figure_auc_final = '../figures/f_auroc_finalcACLD_s20230508.png'\n",
    "\n",
    "plt.rcParams['font.family'] = 'sans-serif'\n",
    "plt.rcParams['axes.titlesize'] = 14\n",
    "plt.rcParams['font.size'] = 10\n",
    "plt.rcParams['figure.autolayout']=False\n",
    "plt.rcParams['axes.spines.right'] = False\n",
    "plt.rcParams['axes.spines.top'] = False"
   ]
  },
  {
   "cell_type": "code",
   "execution_count": 3,
   "metadata": {},
   "outputs": [
    {
     "data": {
      "text/plain": [
       "dict_keys(['df_rawFeatures_training', 'df_rawFeatures_validation', 'dict_normalizationFactors', 'df_zscoreFeatures_training', 'df_zscoreFeatures_validation', 'df_metadata', 'umap_raw', 'umap_zscore'])"
      ]
     },
     "execution_count": 3,
     "metadata": {},
     "output_type": "execute_result"
    }
   ],
   "source": [
    "with open(fn_finalSave, \"rb\") as input_file:\n",
    "    dict_data = pickle.load(input_file)\n",
    "\n",
    "dict_data.keys()"
   ]
  },
  {
   "cell_type": "code",
   "execution_count": 4,
   "metadata": {},
   "outputs": [
    {
     "data": {
      "text/plain": [
       "dict_keys(['importances_all', 'importances_kept', 'feat2keep', 'groups', 'model_rf_ovr'])"
      ]
     },
     "execution_count": 4,
     "metadata": {},
     "output_type": "execute_result"
    }
   ],
   "source": [
    "with open(fn_trainingResults, \"rb\") as input_file:\n",
    "    trainingResults = pickle.load(input_file)\n",
    "\n",
    "trainingResults.keys()"
   ]
  },
  {
   "cell_type": "code",
   "execution_count": null,
   "metadata": {},
   "outputs": [],
   "source": [
    "temp = dict_data['df_metadata']\n",
    "#temp[temp['decompBL']==False]"
   ]
  },
  {
   "cell_type": "code",
   "execution_count": 6,
   "metadata": {},
   "outputs": [
    {
     "name": "stderr",
     "output_type": "stream",
     "text": [
      "/opt/conda/lib/python3.7/site-packages/ipykernel_launcher.py:17: SettingWithCopyWarning: \n",
      "A value is trying to be set on a copy of a slice from a DataFrame.\n",
      "Try using .loc[row_indexer,col_indexer] = value instead\n",
      "\n",
      "See the caveats in the documentation: https://pandas.pydata.org/pandas-docs/stable/user_guide/indexing.html#returning-a-view-versus-a-copy\n",
      "/opt/conda/lib/python3.7/site-packages/ipykernel_launcher.py:18: SettingWithCopyWarning: \n",
      "A value is trying to be set on a copy of a slice from a DataFrame.\n",
      "Try using .loc[row_indexer,col_indexer] = value instead\n",
      "\n",
      "See the caveats in the documentation: https://pandas.pydata.org/pandas-docs/stable/user_guide/indexing.html#returning-a-view-versus-a-copy\n"
     ]
    }
   ],
   "source": [
    "# collect features of testing set\n",
    "testFeatures = dict_data['df_zscoreFeatures_validation'][trainingResults['feat2keep']]\n",
    "\n",
    "\n",
    "# # list of patients in test cohort with 'decomp at BL yes(1) no (0)']=='0'\n",
    "# # generated in misc_counting_s20220204.ipynb\n",
    "cACLD_testIDs = ['0058', '0098', '0118', '0181', '0206', '0213', '0224', '0241', '0244',\n",
    "       '0257', '0272', '0284', '0298', '0302', '0307', '0334', '0340', '0373',\n",
    "       '0383', '0395', '0408', '0413', '0445', '0451', '0459', '0475', '0487',\n",
    "       '0498']\n",
    "\n",
    "testFeatures = testFeatures[testFeatures.index.isin(cACLD_testIDs)]\n",
    "\n",
    "# collect labels of testing set\n",
    "tempMeta = dict_data['df_metadata']\n",
    "currMeta = tempMeta[tempMeta.index.isin(testFeatures.index)]\n",
    "currMeta['hvpg_corrected'] = currMeta['hvpg_corrected'].fillna(0).astype(int)\n",
    "currMeta['HVPG_toPredict'] = currMeta['hvpg_corrected'].apply(lambda x: 0 if x < 10 else 1)\n",
    "\n",
    "testLabels = currMeta['HVPG_toPredict']\n",
    "\n",
    "# binarize testing labels\n",
    "y = label_binarize(testLabels, classes=[0, 1, 2])\n",
    "n_classes = y.shape[1]"
   ]
  },
  {
   "cell_type": "code",
   "execution_count": 7,
   "metadata": {},
   "outputs": [
    {
     "name": "stdout",
     "output_type": "stream",
     "text": [
      "16\n",
      "12\n",
      "0\n"
     ]
    }
   ],
   "source": [
    "print(sum(testLabels==0))\n",
    "print(sum(testLabels==1))\n",
    "print(sum(testLabels==2))"
   ]
  },
  {
   "cell_type": "code",
   "execution_count": 8,
   "metadata": {},
   "outputs": [],
   "source": [
    "# run model\n",
    "frSave = trainingResults['model_rf_ovr']\n",
    "\n",
    "predClasses = frSave.predict(testFeatures)\n",
    "probabilities = frSave.predict_proba(testFeatures)\n",
    "predictions = probabilities[:,1]\n",
    "\n",
    "y_test = testLabels"
   ]
  },
  {
   "cell_type": "code",
   "execution_count": 9,
   "metadata": {},
   "outputs": [],
   "source": [
    "# calculate truth table\n",
    "tn, fp, fn, tp = confusion_matrix(y_test, predClasses).ravel()\n",
    "\n",
    "ppv = tp / (tp+fp)\n",
    "npv = tn / (tn+fn)\n",
    "\n",
    "sensitivity = tp / (tp + fn)\n",
    "specificity = tn / (tn + fp)\n",
    "accuracy = (tp+tn) / (tp+tn+fp+fn)\n",
    "\n",
    "posLR = sensitivity / (1 - specificity)\n",
    "negLR = (1 - sensitivity) / specificity\n",
    "\n",
    "#\n",
    "fpr, tpr, threshold = roc_curve(y_test, predictions)\n",
    "roc_auc = auc(fpr, tpr)\n",
    "\n",
    "predClasses = frSave.predict(testFeatures)\n",
    "precision = precision_score(testLabels, predClasses)"
   ]
  },
  {
   "cell_type": "code",
   "execution_count": 10,
   "metadata": {},
   "outputs": [
    {
     "name": "stdout",
     "output_type": "stream",
     "text": [
      "auc: 0.84375\n",
      "sensitivity: 0.8333333333333334\n",
      "specificity: 0.75\n",
      "accuracy: 0.7857142857142857\n",
      "ppv: 0.7142857142857143\n",
      "npv: 0.8571428571428571\n"
     ]
    }
   ],
   "source": [
    "print('auc: ' + str(roc_auc))\n",
    "print('sensitivity: ' + str(sensitivity))\n",
    "print('specificity: ' + str(specificity))\n",
    "print('accuracy: ' + str(accuracy))\n",
    "print('ppv: ' + str(ppv))\n",
    "print('npv: ' + str(npv))"
   ]
  },
  {
   "cell_type": "code",
   "execution_count": 11,
   "metadata": {},
   "outputs": [
    {
     "name": "stderr",
     "output_type": "stream",
     "text": [
      "/opt/conda/lib/python3.7/site-packages/ipykernel_launcher.py:38: RuntimeWarning: divide by zero encountered in double_scalars\n",
      "/opt/conda/lib/python3.7/site-packages/ipykernel_launcher.py:38: RuntimeWarning: divide by zero encountered in double_scalars\n",
      "/opt/conda/lib/python3.7/site-packages/ipykernel_launcher.py:38: RuntimeWarning: divide by zero encountered in double_scalars\n",
      "/opt/conda/lib/python3.7/site-packages/ipykernel_launcher.py:38: RuntimeWarning: divide by zero encountered in double_scalars\n",
      "/opt/conda/lib/python3.7/site-packages/ipykernel_launcher.py:38: RuntimeWarning: divide by zero encountered in double_scalars\n",
      "/opt/conda/lib/python3.7/site-packages/ipykernel_launcher.py:38: RuntimeWarning: divide by zero encountered in double_scalars\n",
      "/opt/conda/lib/python3.7/site-packages/ipykernel_launcher.py:38: RuntimeWarning: divide by zero encountered in double_scalars\n",
      "/opt/conda/lib/python3.7/site-packages/ipykernel_launcher.py:38: RuntimeWarning: divide by zero encountered in double_scalars\n",
      "/opt/conda/lib/python3.7/site-packages/ipykernel_launcher.py:38: RuntimeWarning: divide by zero encountered in double_scalars\n",
      "/opt/conda/lib/python3.7/site-packages/ipykernel_launcher.py:38: RuntimeWarning: divide by zero encountered in double_scalars\n",
      "/opt/conda/lib/python3.7/site-packages/ipykernel_launcher.py:38: RuntimeWarning: divide by zero encountered in double_scalars\n",
      "/opt/conda/lib/python3.7/site-packages/ipykernel_launcher.py:38: RuntimeWarning: divide by zero encountered in double_scalars\n",
      "/opt/conda/lib/python3.7/site-packages/ipykernel_launcher.py:38: RuntimeWarning: divide by zero encountered in double_scalars\n",
      "/opt/conda/lib/python3.7/site-packages/ipykernel_launcher.py:38: RuntimeWarning: divide by zero encountered in double_scalars\n",
      "/opt/conda/lib/python3.7/site-packages/ipykernel_launcher.py:38: RuntimeWarning: divide by zero encountered in double_scalars\n",
      "/opt/conda/lib/python3.7/site-packages/ipykernel_launcher.py:38: RuntimeWarning: divide by zero encountered in double_scalars\n",
      "/opt/conda/lib/python3.7/site-packages/ipykernel_launcher.py:38: RuntimeWarning: divide by zero encountered in double_scalars\n",
      "/opt/conda/lib/python3.7/site-packages/ipykernel_launcher.py:38: RuntimeWarning: divide by zero encountered in double_scalars\n",
      "/opt/conda/lib/python3.7/site-packages/ipykernel_launcher.py:38: RuntimeWarning: divide by zero encountered in double_scalars\n",
      "/opt/conda/lib/python3.7/site-packages/ipykernel_launcher.py:38: RuntimeWarning: divide by zero encountered in double_scalars\n",
      "/opt/conda/lib/python3.7/site-packages/ipykernel_launcher.py:38: RuntimeWarning: divide by zero encountered in double_scalars\n",
      "/opt/conda/lib/python3.7/site-packages/ipykernel_launcher.py:38: RuntimeWarning: divide by zero encountered in double_scalars\n",
      "/opt/conda/lib/python3.7/site-packages/ipykernel_launcher.py:38: RuntimeWarning: divide by zero encountered in double_scalars\n",
      "/opt/conda/lib/python3.7/site-packages/ipykernel_launcher.py:38: RuntimeWarning: divide by zero encountered in double_scalars\n",
      "/opt/conda/lib/python3.7/site-packages/ipykernel_launcher.py:38: RuntimeWarning: divide by zero encountered in double_scalars\n",
      "/opt/conda/lib/python3.7/site-packages/ipykernel_launcher.py:38: RuntimeWarning: divide by zero encountered in double_scalars\n",
      "/opt/conda/lib/python3.7/site-packages/ipykernel_launcher.py:38: RuntimeWarning: divide by zero encountered in double_scalars\n",
      "/opt/conda/lib/python3.7/site-packages/ipykernel_launcher.py:38: RuntimeWarning: divide by zero encountered in double_scalars\n",
      "/opt/conda/lib/python3.7/site-packages/ipykernel_launcher.py:38: RuntimeWarning: divide by zero encountered in double_scalars\n",
      "/opt/conda/lib/python3.7/site-packages/ipykernel_launcher.py:38: RuntimeWarning: divide by zero encountered in double_scalars\n",
      "/opt/conda/lib/python3.7/site-packages/ipykernel_launcher.py:38: RuntimeWarning: divide by zero encountered in double_scalars\n",
      "/opt/conda/lib/python3.7/site-packages/ipykernel_launcher.py:38: RuntimeWarning: divide by zero encountered in double_scalars\n",
      "/opt/conda/lib/python3.7/site-packages/ipykernel_launcher.py:38: RuntimeWarning: divide by zero encountered in double_scalars\n",
      "/opt/conda/lib/python3.7/site-packages/ipykernel_launcher.py:38: RuntimeWarning: divide by zero encountered in double_scalars\n",
      "/opt/conda/lib/python3.7/site-packages/ipykernel_launcher.py:38: RuntimeWarning: divide by zero encountered in double_scalars\n",
      "/opt/conda/lib/python3.7/site-packages/ipykernel_launcher.py:38: RuntimeWarning: divide by zero encountered in double_scalars\n",
      "/opt/conda/lib/python3.7/site-packages/ipykernel_launcher.py:38: RuntimeWarning: divide by zero encountered in double_scalars\n",
      "/opt/conda/lib/python3.7/site-packages/ipykernel_launcher.py:38: RuntimeWarning: divide by zero encountered in double_scalars\n",
      "/opt/conda/lib/python3.7/site-packages/ipykernel_launcher.py:38: RuntimeWarning: divide by zero encountered in double_scalars\n",
      "/opt/conda/lib/python3.7/site-packages/ipykernel_launcher.py:38: RuntimeWarning: divide by zero encountered in double_scalars\n",
      "/opt/conda/lib/python3.7/site-packages/ipykernel_launcher.py:38: RuntimeWarning: divide by zero encountered in double_scalars\n",
      "/opt/conda/lib/python3.7/site-packages/ipykernel_launcher.py:38: RuntimeWarning: divide by zero encountered in double_scalars\n",
      "/opt/conda/lib/python3.7/site-packages/ipykernel_launcher.py:38: RuntimeWarning: divide by zero encountered in double_scalars\n",
      "/opt/conda/lib/python3.7/site-packages/ipykernel_launcher.py:38: RuntimeWarning: divide by zero encountered in double_scalars\n",
      "/opt/conda/lib/python3.7/site-packages/ipykernel_launcher.py:38: RuntimeWarning: divide by zero encountered in double_scalars\n",
      "/opt/conda/lib/python3.7/site-packages/ipykernel_launcher.py:38: RuntimeWarning: divide by zero encountered in double_scalars\n",
      "/opt/conda/lib/python3.7/site-packages/ipykernel_launcher.py:38: RuntimeWarning: divide by zero encountered in double_scalars\n",
      "/opt/conda/lib/python3.7/site-packages/ipykernel_launcher.py:38: RuntimeWarning: divide by zero encountered in double_scalars\n",
      "/opt/conda/lib/python3.7/site-packages/ipykernel_launcher.py:38: RuntimeWarning: divide by zero encountered in double_scalars\n",
      "/opt/conda/lib/python3.7/site-packages/ipykernel_launcher.py:38: RuntimeWarning: divide by zero encountered in double_scalars\n",
      "/opt/conda/lib/python3.7/site-packages/ipykernel_launcher.py:38: RuntimeWarning: divide by zero encountered in double_scalars\n",
      "/opt/conda/lib/python3.7/site-packages/ipykernel_launcher.py:38: RuntimeWarning: divide by zero encountered in double_scalars\n",
      "/opt/conda/lib/python3.7/site-packages/ipykernel_launcher.py:38: RuntimeWarning: divide by zero encountered in double_scalars\n",
      "/opt/conda/lib/python3.7/site-packages/ipykernel_launcher.py:38: RuntimeWarning: divide by zero encountered in double_scalars\n",
      "/opt/conda/lib/python3.7/site-packages/ipykernel_launcher.py:38: RuntimeWarning: divide by zero encountered in double_scalars\n",
      "/opt/conda/lib/python3.7/site-packages/ipykernel_launcher.py:38: RuntimeWarning: divide by zero encountered in double_scalars\n",
      "/opt/conda/lib/python3.7/site-packages/ipykernel_launcher.py:38: RuntimeWarning: divide by zero encountered in double_scalars\n",
      "/opt/conda/lib/python3.7/site-packages/ipykernel_launcher.py:38: RuntimeWarning: divide by zero encountered in double_scalars\n",
      "/opt/conda/lib/python3.7/site-packages/ipykernel_launcher.py:38: RuntimeWarning: divide by zero encountered in double_scalars\n",
      "/opt/conda/lib/python3.7/site-packages/ipykernel_launcher.py:38: RuntimeWarning: divide by zero encountered in double_scalars\n",
      "/opt/conda/lib/python3.7/site-packages/ipykernel_launcher.py:38: RuntimeWarning: divide by zero encountered in double_scalars\n",
      "/opt/conda/lib/python3.7/site-packages/ipykernel_launcher.py:38: RuntimeWarning: divide by zero encountered in double_scalars\n",
      "/opt/conda/lib/python3.7/site-packages/ipykernel_launcher.py:38: RuntimeWarning: divide by zero encountered in double_scalars\n",
      "/opt/conda/lib/python3.7/site-packages/ipykernel_launcher.py:38: RuntimeWarning: divide by zero encountered in double_scalars\n",
      "/opt/conda/lib/python3.7/site-packages/ipykernel_launcher.py:38: RuntimeWarning: divide by zero encountered in double_scalars\n",
      "/opt/conda/lib/python3.7/site-packages/ipykernel_launcher.py:38: RuntimeWarning: divide by zero encountered in double_scalars\n"
     ]
    },
    {
     "name": "stderr",
     "output_type": "stream",
     "text": [
      "/opt/conda/lib/python3.7/site-packages/ipykernel_launcher.py:38: RuntimeWarning: divide by zero encountered in double_scalars\n",
      "/opt/conda/lib/python3.7/site-packages/ipykernel_launcher.py:38: RuntimeWarning: divide by zero encountered in double_scalars\n",
      "/opt/conda/lib/python3.7/site-packages/ipykernel_launcher.py:38: RuntimeWarning: divide by zero encountered in double_scalars\n",
      "/opt/conda/lib/python3.7/site-packages/ipykernel_launcher.py:38: RuntimeWarning: divide by zero encountered in double_scalars\n",
      "/opt/conda/lib/python3.7/site-packages/ipykernel_launcher.py:38: RuntimeWarning: divide by zero encountered in double_scalars\n",
      "/opt/conda/lib/python3.7/site-packages/ipykernel_launcher.py:38: RuntimeWarning: divide by zero encountered in double_scalars\n",
      "/opt/conda/lib/python3.7/site-packages/ipykernel_launcher.py:38: RuntimeWarning: divide by zero encountered in double_scalars\n",
      "/opt/conda/lib/python3.7/site-packages/ipykernel_launcher.py:38: RuntimeWarning: divide by zero encountered in double_scalars\n",
      "/opt/conda/lib/python3.7/site-packages/ipykernel_launcher.py:38: RuntimeWarning: divide by zero encountered in double_scalars\n",
      "/opt/conda/lib/python3.7/site-packages/ipykernel_launcher.py:38: RuntimeWarning: divide by zero encountered in double_scalars\n",
      "/opt/conda/lib/python3.7/site-packages/ipykernel_launcher.py:38: RuntimeWarning: divide by zero encountered in double_scalars\n",
      "/opt/conda/lib/python3.7/site-packages/ipykernel_launcher.py:38: RuntimeWarning: divide by zero encountered in double_scalars\n",
      "/opt/conda/lib/python3.7/site-packages/ipykernel_launcher.py:38: RuntimeWarning: divide by zero encountered in double_scalars\n",
      "/opt/conda/lib/python3.7/site-packages/ipykernel_launcher.py:38: RuntimeWarning: divide by zero encountered in double_scalars\n",
      "/opt/conda/lib/python3.7/site-packages/ipykernel_launcher.py:38: RuntimeWarning: divide by zero encountered in double_scalars\n",
      "/opt/conda/lib/python3.7/site-packages/ipykernel_launcher.py:38: RuntimeWarning: divide by zero encountered in double_scalars\n",
      "/opt/conda/lib/python3.7/site-packages/ipykernel_launcher.py:38: RuntimeWarning: divide by zero encountered in double_scalars\n",
      "/opt/conda/lib/python3.7/site-packages/ipykernel_launcher.py:38: RuntimeWarning: divide by zero encountered in double_scalars\n",
      "/opt/conda/lib/python3.7/site-packages/ipykernel_launcher.py:38: RuntimeWarning: divide by zero encountered in double_scalars\n",
      "/opt/conda/lib/python3.7/site-packages/ipykernel_launcher.py:38: RuntimeWarning: divide by zero encountered in double_scalars\n",
      "/opt/conda/lib/python3.7/site-packages/ipykernel_launcher.py:38: RuntimeWarning: divide by zero encountered in double_scalars\n",
      "/opt/conda/lib/python3.7/site-packages/ipykernel_launcher.py:38: RuntimeWarning: divide by zero encountered in double_scalars\n",
      "/opt/conda/lib/python3.7/site-packages/ipykernel_launcher.py:38: RuntimeWarning: divide by zero encountered in double_scalars\n",
      "/opt/conda/lib/python3.7/site-packages/ipykernel_launcher.py:38: RuntimeWarning: divide by zero encountered in double_scalars\n",
      "/opt/conda/lib/python3.7/site-packages/ipykernel_launcher.py:38: RuntimeWarning: divide by zero encountered in double_scalars\n",
      "/opt/conda/lib/python3.7/site-packages/ipykernel_launcher.py:38: RuntimeWarning: divide by zero encountered in double_scalars\n",
      "/opt/conda/lib/python3.7/site-packages/ipykernel_launcher.py:38: RuntimeWarning: divide by zero encountered in double_scalars\n",
      "/opt/conda/lib/python3.7/site-packages/ipykernel_launcher.py:38: RuntimeWarning: divide by zero encountered in double_scalars\n",
      "/opt/conda/lib/python3.7/site-packages/ipykernel_launcher.py:38: RuntimeWarning: divide by zero encountered in double_scalars\n",
      "/opt/conda/lib/python3.7/site-packages/ipykernel_launcher.py:38: RuntimeWarning: divide by zero encountered in double_scalars\n",
      "/opt/conda/lib/python3.7/site-packages/ipykernel_launcher.py:38: RuntimeWarning: divide by zero encountered in double_scalars\n",
      "/opt/conda/lib/python3.7/site-packages/ipykernel_launcher.py:38: RuntimeWarning: divide by zero encountered in double_scalars\n",
      "/opt/conda/lib/python3.7/site-packages/ipykernel_launcher.py:38: RuntimeWarning: divide by zero encountered in double_scalars\n",
      "/opt/conda/lib/python3.7/site-packages/ipykernel_launcher.py:38: RuntimeWarning: divide by zero encountered in double_scalars\n",
      "/opt/conda/lib/python3.7/site-packages/ipykernel_launcher.py:38: RuntimeWarning: divide by zero encountered in double_scalars\n",
      "/opt/conda/lib/python3.7/site-packages/ipykernel_launcher.py:38: RuntimeWarning: divide by zero encountered in double_scalars\n",
      "/opt/conda/lib/python3.7/site-packages/ipykernel_launcher.py:38: RuntimeWarning: divide by zero encountered in double_scalars\n",
      "/opt/conda/lib/python3.7/site-packages/ipykernel_launcher.py:38: RuntimeWarning: divide by zero encountered in double_scalars\n",
      "/opt/conda/lib/python3.7/site-packages/ipykernel_launcher.py:38: RuntimeWarning: divide by zero encountered in double_scalars\n",
      "/opt/conda/lib/python3.7/site-packages/ipykernel_launcher.py:38: RuntimeWarning: divide by zero encountered in double_scalars\n",
      "/opt/conda/lib/python3.7/site-packages/ipykernel_launcher.py:38: RuntimeWarning: divide by zero encountered in double_scalars\n",
      "/opt/conda/lib/python3.7/site-packages/ipykernel_launcher.py:38: RuntimeWarning: divide by zero encountered in double_scalars\n",
      "/opt/conda/lib/python3.7/site-packages/ipykernel_launcher.py:38: RuntimeWarning: divide by zero encountered in double_scalars\n",
      "/opt/conda/lib/python3.7/site-packages/ipykernel_launcher.py:38: RuntimeWarning: divide by zero encountered in double_scalars\n",
      "/opt/conda/lib/python3.7/site-packages/ipykernel_launcher.py:38: RuntimeWarning: divide by zero encountered in double_scalars\n",
      "/opt/conda/lib/python3.7/site-packages/ipykernel_launcher.py:38: RuntimeWarning: divide by zero encountered in double_scalars\n",
      "/opt/conda/lib/python3.7/site-packages/ipykernel_launcher.py:38: RuntimeWarning: divide by zero encountered in double_scalars\n",
      "/opt/conda/lib/python3.7/site-packages/ipykernel_launcher.py:38: RuntimeWarning: divide by zero encountered in double_scalars\n",
      "/opt/conda/lib/python3.7/site-packages/ipykernel_launcher.py:38: RuntimeWarning: divide by zero encountered in double_scalars\n",
      "/opt/conda/lib/python3.7/site-packages/ipykernel_launcher.py:38: RuntimeWarning: divide by zero encountered in double_scalars\n",
      "/opt/conda/lib/python3.7/site-packages/ipykernel_launcher.py:38: RuntimeWarning: divide by zero encountered in double_scalars\n",
      "/opt/conda/lib/python3.7/site-packages/ipykernel_launcher.py:38: RuntimeWarning: divide by zero encountered in double_scalars\n",
      "/opt/conda/lib/python3.7/site-packages/ipykernel_launcher.py:38: RuntimeWarning: divide by zero encountered in double_scalars\n",
      "/opt/conda/lib/python3.7/site-packages/ipykernel_launcher.py:38: RuntimeWarning: divide by zero encountered in double_scalars\n",
      "/opt/conda/lib/python3.7/site-packages/ipykernel_launcher.py:38: RuntimeWarning: divide by zero encountered in double_scalars\n",
      "/opt/conda/lib/python3.7/site-packages/ipykernel_launcher.py:38: RuntimeWarning: divide by zero encountered in double_scalars\n"
     ]
    },
    {
     "name": "stdout",
     "output_type": "stream",
     "text": [
      "auc [95%CI: 0.667-0.979]\n",
      "sensitivity [95%CI: 0.600-1.000]\n",
      "specificity [95%CI: 0.529-0.941]\n",
      "ppv [95%CI: 0.462-0.929]\n",
      "npv [95%CI: 0.643-1.000]\n",
      "accuracy [95%CI: 0.643-0.929]\n"
     ]
    },
    {
     "name": "stderr",
     "output_type": "stream",
     "text": [
      "/opt/conda/lib/python3.7/site-packages/ipykernel_launcher.py:38: RuntimeWarning: divide by zero encountered in double_scalars\n"
     ]
    }
   ],
   "source": [
    "n_bootstrap = 10000\n",
    "auroc_boot = np.zeros(n_bootstrap)\n",
    "sensitivity_boot = np.zeros(n_bootstrap)\n",
    "specificity_boot = np.zeros(n_bootstrap)\n",
    "ppv_boot = np.zeros(n_bootstrap)\n",
    "npv_boot = np.zeros(n_bootstrap)\n",
    "accuracy_boot = np.zeros(n_bootstrap)\n",
    "posLR_boot = np.zeros(n_bootstrap)\n",
    "negLR_boot = np.zeros(n_bootstrap)\n",
    "\n",
    "\n",
    "# same as before\n",
    "y_test = testLabels\n",
    "probabilities = frSave.predict_proba(testFeatures)\n",
    "predictions = probabilities[:,1]\n",
    "predClasses = frSave.predict(testFeatures)\n",
    "\n",
    "for i in range(n_bootstrap):\n",
    "    # Create a new bootstrap sample\n",
    "    idx_boot = np.random.choice(len(y_test), len(y_test), replace=True)\n",
    "    labels_boot = y_test[idx_boot]\n",
    "    prob_boot = predictions[idx_boot]\n",
    "    pred_boot = predClasses[idx_boot]\n",
    "\n",
    "    # Calculate the AUROC\n",
    "    auroc_boot[i] = roc_auc_score(labels_boot, prob_boot)\n",
    "    \n",
    "    # other metrics\n",
    "    tn, fp, fn, tp = confusion_matrix(labels_boot, pred_boot).ravel()\n",
    "\n",
    "    ppv_boot[i] = tp / (tp+fp)\n",
    "    npv_boot[i] = tn / (tn+fn)\n",
    "\n",
    "    sensitivity_boot[i] = tp / (tp + fn)\n",
    "    specificity_boot[i] = tn / (tn + fp)\n",
    "    accuracy_boot[i] = (tp+tn) / (tp+tn+fp+fn)\n",
    "\n",
    "    posLR_boot[i] = sensitivity_boot[i] / (1 - specificity_boot[i])\n",
    "    negLR_boot[i] = (1 - sensitivity_boot[i]) / specificity_boot[i]\n",
    "\n",
    "# Step 5: Calculate the confidence interval based on the distribution of AUROC values\n",
    "lower_auc = np.percentile(auroc_boot, 2.5)\n",
    "upper_auc = np.percentile(auroc_boot, 97.5)\n",
    "print(\"auc [95%CI: {:.3f}-{:.3f}]\".format(lower_auc, upper_auc))\n",
    "\n",
    "lower_sen = np.percentile(sensitivity_boot, 2.5)\n",
    "upper_sen = np.percentile(sensitivity_boot, 97.5)\n",
    "print(\"sensitivity [95%CI: {:.3f}-{:.3f}]\".format(lower_sen, upper_sen))\n",
    "\n",
    "lower_spe = np.percentile(specificity_boot, 2.5)\n",
    "upper_spe = np.percentile(specificity_boot, 97.5)\n",
    "print(\"specificity [95%CI: {:.3f}-{:.3f}]\".format(lower_spe, upper_spe))\n",
    "\n",
    "lower_ppv = np.percentile(ppv_boot, 2.5)\n",
    "upper_ppv = np.percentile(ppv_boot, 97.5)\n",
    "print(\"ppv [95%CI: {:.3f}-{:.3f}]\".format(lower_ppv, upper_ppv))\n",
    "\n",
    "lower_npv = np.percentile(npv_boot, 2.5)\n",
    "upper_npv = np.percentile(npv_boot, 97.5)\n",
    "print(\"npv [95%CI: {:.3f}-{:.3f}]\".format(lower_npv, upper_npv))\n",
    "\n",
    "lower_acc = np.percentile(accuracy_boot, 2.5)\n",
    "upper_acc = np.percentile(accuracy_boot, 97.5)\n",
    "print(\"accuracy [95%CI: {:.3f}-{:.3f}]\".format(lower_acc, upper_acc))"
   ]
  },
  {
   "cell_type": "code",
   "execution_count": 20,
   "metadata": {},
   "outputs": [
    {
     "data": {
      "image/png": "[encoded data removed]",
      "text/plain": [
       "<Figure size 432x432 with 1 Axes>"
      ]
     },
     "metadata": {
      "needs_background": "light"
     },
     "output_type": "display_data"
    }
   ],
   "source": [
    "fig, ax = plt.subplots(figsize=(6, 6))\n",
    "plt.rcParams['axes.spines.right'] = False\n",
    "plt.rcParams['axes.spines.top'] = False\n",
    "\n",
    "labelTxt = 'AUROC = %0.2f \\n ppv = %0.2f \\n npv = %0.2f \\n +LR = %0.2f \\n -LR = %0.2f' % (roc_auc, ppv, npv, posLR, negLR)\n",
    "\n",
    "plt.plot(fpr, tpr, color='tab:blue', lw=2, alpha=0.7, label=labelTxt)\n",
    "plt.plot([0,1],[0,1],linestyle = '--',lw = 2,color = 'black')\n",
    "\n",
    "#textstr = 'AUROC = %0.2f \\n ppv = %0.2f \\n npv = %0.2f \\n +LR = %0.2f \\n -LR = %0.2f' % (roc_auc, ppv, npv, posLR, negLR)\n",
    "\n",
    "textstr = '\\n'.join((\n",
    "    r'AUROC = %.2f [95%%CI: %.2f-%.2f]' % (roc_auc, lower_auc, upper_auc),\n",
    "    r'Sensitivity = %.2f [95%%CI: %.2f-%.2f]' % (sensitivity, lower_sen, upper_sen),\n",
    "    r'Specificity = %.2f [95%%CI: %.2f-%.2f]' % (specificity, lower_spe, upper_spe),\n",
    "    r'Accuracy = %.2f [95%%CI: %.2f-%.2f]' % (accuracy, lower_acc, upper_acc),\n",
    "    r'PPV = %.2f [95%%CI: %.2f-%.2f]' % (ppv, lower_ppv, upper_ppv),\n",
    "    r'NPV = %.2f [95%%CI: %.2f-%.2f]' % (npv, lower_npv, upper_npv)))\n",
    "\n",
    "ax.text(0.46, 0.05, textstr, transform=ax.transAxes, fontsize=14,\n",
    "        verticalalignment='bottom')\n",
    "\n",
    "plt.xlabel('False Positive Rate')\n",
    "plt.ylabel('True Positive Rate')\n",
    "plt.title('cACLD testing cohort ROC')\n",
    "#plt.legend(loc=\"lower right\")\n",
    "\n",
    "plt.savefig(fn_figure_auc_final, bbox_inches='tight')"
   ]
  },
  {
   "cell_type": "code",
   "execution_count": 18,
   "metadata": {},
   "outputs": [
    {
     "data": {
      "text/plain": [
       "'AUROC = 0.84 [95%CI: 0.67-0.98]\\nSensitivity = 0.83 [95%CI: 0.60-1.00]\\nSpecificity = 0.75 [95%CI: 0.53-0.94]\\nAccuracy = 0.79 [95%CI: 0.64-0.93]\\nppv = 0.71 [95%CI: 0.46-0.93]\\nnpv = 0.86 [95%CI: 0.64-1.00]'"
      ]
     },
     "execution_count": 18,
     "metadata": {},
     "output_type": "execute_result"
    }
   ],
   "source": [
    "textstr"
   ]
  },
  {
   "cell_type": "code",
   "execution_count": 13,
   "metadata": {},
   "outputs": [
    {
     "name": "stdout",
     "output_type": "stream",
     "text": [
      "Youden Index: 0.6011028416028416\n",
      "YI sensitivity: 0.75\n",
      "YI specificity: 0.875\n",
      "YI accuracy: 0.8214285714285714\n",
      "YI ppv: 0.8181818181818182\n",
      "YI npv: 0.8235294117647058\n"
     ]
    }
   ],
   "source": [
    "# Find Youden's index\n",
    "idx = np.argmax(tpr - fpr)\n",
    "youdenIndex = threshold[idx]\n",
    "print('Youden Index: '+ str(youdenIndex))\n",
    "\n",
    "newPred = [1 if x > youdenIndex else 0 for x in probabilities[:,1]]\n",
    "\n",
    "# calculate truth table\n",
    "tn_y, fp_y, fn_y, tp_y = confusion_matrix(y_test, newPred).ravel()\n",
    "\n",
    "ppv_y = tp_y / (tp_y+fp_y)\n",
    "npv_y = tn_y / (tn_y+fn_y)\n",
    "\n",
    "sensitivity_y = tp_y / (tp_y + fn_y)\n",
    "specificity_y = tn_y / (tn_y + fp_y)\n",
    "accuracy_y = (tp_y+tn_y) / (tp_y+tn_y+fp_y+fn_y)\n",
    "\n",
    "posLR_y = sensitivity_y / (1 - specificity_y)\n",
    "negLR_y = (1 - sensitivity_y) / specificity_y\n",
    "\n",
    "print('YI sensitivity: ' + str(sensitivity_y))\n",
    "print('YI specificity: ' + str(specificity_y))\n",
    "print('YI accuracy: ' + str(accuracy_y))\n",
    "print('YI ppv: ' + str(ppv_y))\n",
    "print('YI npv: ' + str(npv_y))"
   ]
  },
  {
   "cell_type": "code",
   "execution_count": null,
   "metadata": {},
   "outputs": [],
   "source": [
    "predictionsValidation = pd.DataFrame(data=probabilities, columns=['p(grp0)', 'p(grp1)'])\n",
    "predictionsValidation['hvpg_corrected']=list(currMeta['hvpg_corrected'])\n",
    "predictionsValidation['grp']=list(testLabels)\n",
    "predictionsValidation['pred_bin']=predClasses\n",
    "predictionsValidation.index=testFeatures.index\n",
    "#predictionsValidation"
   ]
  },
  {
   "cell_type": "code",
   "execution_count": 15,
   "metadata": {},
   "outputs": [],
   "source": [
    "# write to excel\n",
    "predictionsValidation.to_excel(fn_predictionsValidation)"
   ]
  },
  {
   "cell_type": "code",
   "execution_count": null,
   "metadata": {},
   "outputs": [],
   "source": [
    "#predictionsValidation[predictionsValidation['grp']!=predictionsValidation['pred_bin']]"
   ]
  },
  {
   "cell_type": "code",
   "execution_count": 17,
   "metadata": {},
   "outputs": [
    {
     "name": "stdout",
     "output_type": "stream",
     "text": [
      "2023-06-21 14:49:12.568915\n"
     ]
    }
   ],
   "source": [
    "print(datetime.datetime.now())"
   ]
  }
 ],
 "metadata": {
  "kernelspec": {
   "display_name": "Python 3 (ipykernel)",
   "language": "python",
   "name": "python3"
  },
  "language_info": {
   "codemirror_mode": {
    "name": "ipython",
    "version": 3
   },
   "file_extension": ".py",
   "mimetype": "text/x-python",
   "name": "python",
   "nbconvert_exporter": "python",
   "pygments_lexer": "ipython3",
   "version": "3.12.0"
  }
 },
 "nbformat": 4,
 "nbformat_minor": 4
}
