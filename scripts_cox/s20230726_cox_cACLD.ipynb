{
 "cells": [
  {
   "cell_type": "code",
   "execution_count": null,
   "metadata": {},
   "outputs": [],
   "source": [
    "import pickle\n",
    "import copy\n",
    "import pandas as pd\n",
    "import numpy as np\n",
    "import matplotlib.pyplot as plt\n",
    "from lifelines import KaplanMeierFitter\n",
    "from lifelines import CoxPHFitter\n",
    "\n",
    "import time\n",
    "import datetime\n",
    "\n",
    "print(datetime.datetime.now())"
   ]
  },
  {
   "cell_type": "code",
   "execution_count": 2,
   "metadata": {},
   "outputs": [],
   "source": [
    "path_data = '../data/d20220201/'\n",
    "\n",
    "# INPUTS\n",
    "fn_finalSave = path_data + 'featuresAndMeta_s20220720.p'\n",
    "fn_predictionsTraining  = path_data + 'predictionsTraining_binary_s20230504.xlsx'\n",
    "fn_predictionsValidation = path_data + 'predictionsValidation_binary_s20230508.xlsx'\n",
    "fn_patient = '../metadata/Celine_FINAL_RADIOPOP_DATA_with LRE Death_220729.xlsx'\n",
    "\n",
    "# OUTPUTS\n",
    "fn_f_survivalCurve_cACLD = '../figures/f_survivalCurvecACLD_s20230516.png'\n",
    "\n",
    "plt.rcParams['font.family'] = 'sans-serif'\n",
    "plt.rcParams['axes.titlesize'] = 14\n",
    "plt.rcParams['font.size'] = 10\n",
    "plt.rcParams['figure.autolayout']=False\n",
    "plt.rcParams['axes.spines.right'] = False\n",
    "plt.rcParams['axes.spines.top'] = False"
   ]
  },
  {
   "cell_type": "code",
   "execution_count": 3,
   "metadata": {},
   "outputs": [
    {
     "data": {
      "text/plain": [
       "dict_keys(['df_rawFeatures_training', 'df_rawFeatures_validation', 'dict_normalizationFactors', 'df_zscoreFeatures_training', 'df_zscoreFeatures_validation', 'df_metadata', 'umap_raw', 'umap_zscore'])"
      ]
     },
     "execution_count": 3,
     "metadata": {},
     "output_type": "execute_result"
    }
   ],
   "source": [
    "with open(fn_finalSave, \"rb\") as input_file:\n",
    "    dict_data = pickle.load(input_file)\n",
    "\n",
    "dict_data.keys()"
   ]
  },
  {
   "cell_type": "code",
   "execution_count": 4,
   "metadata": {},
   "outputs": [],
   "source": [
    "predictions_train = pd.read_excel(fn_predictionsTraining, index_col=0)\n",
    "predictions_validations = pd.read_excel(fn_predictionsValidation, index_col=0)\n",
    "predictions_binary = pd.concat([predictions_train, predictions_validations])\n",
    "predictions_binary['id'] = predictions_binary.index\n",
    "predictions_binary['id'] = predictions_binary['id'].apply(lambda x: str(x).zfill(4))\n",
    "predictions_binary = predictions_binary.set_index('id')"
   ]
  },
  {
   "cell_type": "code",
   "execution_count": null,
   "metadata": {},
   "outputs": [],
   "source": [
    "currMeta = dict_data['df_metadata']\n",
    "currMeta = currMeta.dropna()\n",
    "\n",
    "# cACLD analysis: keep only cACLD patients\n",
    "currMeta = currMeta[currMeta['decompensated_acld'] == '1']\n",
    "# cACLD analysis: censor for not liver related death\n",
    "currMeta['censor_lrd'] = currMeta.apply(lambda row: False if (row.survival_tf == False and row.lrd_tf == False) else True, axis = 1)\n",
    "\n",
    "# make variables\n",
    "temp = pd.get_dummies(currMeta['meld_grp'], prefix='meldgrp')\n",
    "currMeta = pd.concat([currMeta, temp], axis = 1)\n",
    "temp = pd.get_dummies(currMeta['cps_grp'], prefix='cpsgrp')\n",
    "currMeta = pd.concat([currMeta, temp], axis = 1)\n",
    "\n",
    "currMeta['etio_alcLiverDisease'] = currMeta['etiology'].apply(lambda x: True if x == '1' else False)\n",
    "currMeta['etio_nonAlcFattyLiver'] = currMeta['etiology'].apply(lambda x: True if x == '2' else False)\n",
    "currMeta['etio_viral'] = currMeta['etiology'].apply(lambda x: True if x == '3' else False)\n",
    "currMeta['etio_other'] = currMeta['etiology'].apply(lambda x: True if x == '4' else False)\n",
    "currMeta['etio_unknown'] = currMeta['etiology'].apply(lambda x: True if x == '5' else False)\n",
    "\n",
    "# create composite endpoint: lre OR lrd\n",
    "currMeta['lre_or_lrd_tf'] = (~currMeta['decompBL'].astype(bool)) | (currMeta['lrd_tf']) # what celine thinks is correct\n",
    "# #currMeta['lre_or_lrd_tf'] = (currMeta['decompBL'].astype(bool)) | (currMeta['lrd_tf'])\n",
    "currMeta['lre_or_lrd'] = currMeta[['lre','lrd']].min(axis=1)\n",
    "\n",
    "# add radipop predictions\n",
    "currMeta = currMeta.merge(predictions_binary[['pred_bin']], how='inner', left_index=True, right_index=True)\n",
    "\n",
    "currMeta"
   ]
  },
  {
   "cell_type": "code",
   "execution_count": 6,
   "metadata": {},
   "outputs": [
    {
     "name": "stdout",
     "output_type": "stream",
     "text": [
      "(array([ 17, 118]),)\n",
      "(array([ 17, 118]),)\n"
     ]
    }
   ],
   "source": [
    "print(np.where((currMeta['lre'] != currMeta['lre_or_lrd'])))\n",
    "print(np.where((currMeta['lre'] > currMeta['lrd'])))"
   ]
  },
  {
   "cell_type": "code",
   "execution_count": 7,
   "metadata": {},
   "outputs": [
    {
     "data": {
      "image/png": "[encoded data removed]",
      "text/plain": [
       "<Figure size 576x432 with 1 Axes>"
      ]
     },
     "metadata": {
      "needs_background": "light"
     },
     "output_type": "display_data"
    }
   ],
   "source": [
    "# km curve for Event=decompensation/death, Censoring: non-liver related death\n",
    "time = currMeta['lre']\n",
    "censoring = currMeta['censor_lrd']\n",
    "\n",
    "kmf = KaplanMeierFitter()\n",
    "kmf.fit(durations = time, event_observed = censoring)\n",
    "\n",
    "fig, ax = plt.subplots(figsize=(8, 6))\n",
    "kmf.plot_survival_function()\n",
    "plt.title('cACLD subanalysis: liver related event/death')\n",
    "\n",
    "plt.savefig(fn_f_survivalCurve_cACLD)"
   ]
  },
  {
   "cell_type": "code",
   "execution_count": 8,
   "metadata": {},
   "outputs": [
    {
     "name": "stdout",
     "output_type": "stream",
     "text": [
      "2023-07-26 07:27:44.613991\n"
     ]
    }
   ],
   "source": [
    "print(datetime.datetime.now())"
   ]
  }
 ],
 "metadata": {
  "kernelspec": {
   "display_name": "Python 3 (ipykernel)",
   "language": "python",
   "name": "python3"
  },
  "language_info": {
   "codemirror_mode": {
    "name": "ipython",
    "version": 3
   },
   "file_extension": ".py",
   "mimetype": "text/x-python",
   "name": "python",
   "nbconvert_exporter": "python",
   "pygments_lexer": "ipython3",
   "version": "3.12.0"
  }
 },
 "nbformat": 4,
 "nbformat_minor": 4
}
