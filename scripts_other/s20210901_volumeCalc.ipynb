{
 "cells": [
  {
   "cell_type": "code",
   "execution_count": 1,
   "metadata": {},
   "outputs": [
    {
     "name": "stdout",
     "output_type": "stream",
     "text": [
      "2021-09-01 13:27:30.051967\n"
     ]
    }
   ],
   "source": [
    "import pickle\n",
    "import pandas as pd\n",
    "import numpy as np\n",
    "import nrrd\n",
    "\n",
    "import matplotlib.pyplot as plt\n",
    "import matplotlib.patches as mpatches\n",
    "from IPython.display import clear_output\n",
    "\n",
    "from radiomics import featureextractor, getTestCase\n",
    "import SimpleITK as sitk\n",
    "import subprocess\n",
    "\n",
    "import os\n",
    "import glob\n",
    "import shutil\n",
    "\n",
    "import time\n",
    "import datetime\n",
    "\n",
    "print(datetime.datetime.now())"
   ]
  },
  {
   "cell_type": "code",
   "execution_count": 2,
   "metadata": {},
   "outputs": [],
   "source": [
    "# INPUTS\n",
    "path_meta = 'data/d20210727/nrrds_metadata/'\n",
    "path_masks = 'data/d20210727/masks_training/'\n",
    "\n",
    "# PARAMETERS\n",
    "mask_liverNum = 1\n",
    "mask_spleenNum = 2"
   ]
  },
  {
   "cell_type": "code",
   "execution_count": 3,
   "metadata": {},
   "outputs": [
    {
     "name": "stdout",
     "output_type": "stream",
     "text": [
      "86 liver: 2730045.0347328186\n",
      "86 spleen: 704794.9327926636\n",
      "16 liver: 2877328.365386963\n",
      "16 spleen: 506625.0319824219\n",
      "429 liver: 2548253.5155944824\n",
      "429 spleen: 1065825.6479187012\n",
      "290 liver: 1727722.0781326294\n",
      "290 spleen: 909663.7395858765\n",
      "403 liver: 1269366.9440612793\n",
      "403 spleen: 271888.830619812\n",
      "110 liver: 1750566.6010437012\n",
      "110 spleen: 712824.1563949585\n",
      "193 liver: 2967217.7429504395\n",
      "193 spleen: 2184351.621612549\n",
      "95 liver: 1612037.543106079\n",
      "95 spleen: 1131221.248626709\n",
      "506 liver: 1555408.5341186523\n",
      "506 spleen: 341345.81018066406\n",
      "185 liver: 1286849.653137207\n",
      "185 spleen: 367190.4182739258\n",
      "130 liver: 1332692.5381011963\n",
      "130 spleen: 664063.7211074829\n",
      "49 liver: 1867817.2023010254\n",
      "49 spleen: 1368215.0984191895\n",
      "253 liver: 1288757.5689849854\n",
      "253 spleen: 150190.9127960205\n",
      "259 liver: 1726077.600616455\n",
      "259 spleen: 257870.43460083008\n",
      "512 liver: 1493439.779663086\n",
      "512 spleen: 611388.2843017578\n",
      "169 liver: 1358367.0347213745\n",
      "169 spleen: 379404.2673110962\n",
      "361 liver: 1605256.8548583984\n",
      "361 spleen: 684748.58984375\n",
      "alte ID werden ersetzt: problem with nrrd meta file\n",
      "186 liver: 1959288.7504882812\n",
      "186 spleen: 766417.1873474121\n",
      "461 liver: 1592995.842781067\n",
      "461 spleen: 639004.9591064453\n",
      "20 liver: 1749716.0000076294\n",
      "20 spleen: 84003.36929321289\n",
      "275 liver: 1619959.9578857422\n",
      "275 spleen: 556480.7067871094\n",
      "335 liver: 1748811.9729309082\n",
      "335 spleen: 657380.0354919434\n",
      "42 liver: 2780671.3453674316\n",
      "42 spleen: 620487.7649230957\n",
      "287 liver: 1116833.7227783203\n",
      "287 spleen: 896623.3979187012\n",
      "381 liver: 1669063.3434448242\n",
      "381 spleen: 627111.9376831055\n",
      "280 liver: 1469695.4577026367\n",
      "280 spleen: 701386.5443115234\n",
      "174 liver: 1001835.9375\n",
      "174 spleen: 134704.6875\n",
      "33 liver: 1657318.7818542449\n",
      "33 spleen: 1024391.3492143404\n",
      "105 liver: 3699794.156776428\n",
      "105 spleen: 366034.92237091064\n",
      "84 liver: 1464766.1499023438\n",
      "84 spleen: 863050.4516601562\n",
      "226 liver: 1345750.7558898926\n",
      "226 spleen: 170240.38021850586\n",
      "214 liver: 1058183.3221435547\n",
      "214 spleen: 453103.0059814453\n",
      "146 liver: 2137541.4572821874\n",
      "146 spleen: 754603.0033528481\n",
      "465 liver: 2107242.4507141113\n",
      "465 spleen: 1901257.038116455\n",
      "alteID2: problem with nrrd meta file\n",
      "57 liver: 2293169.7478544083\n",
      "57 spleen: 1047999.9940414273\n",
      "299 liver: 1323470.4668426514\n",
      "299 spleen: 193063.66774749756\n",
      "4 liver: 1628835.8110656738\n",
      "4 spleen: 271054.00372314453\n",
      "3 liver: 2406349.645751953\n",
      "3 spleen: 605220.6572265625\n",
      "351 liver: 2788840.0345077515\n",
      "351 spleen: 469085.07345581055\n",
      "378 liver: 1820183.2193603516\n",
      "378 spleen: 1190765.0422363281\n",
      "184 liver: 1850962.5234375\n",
      "184 spleen: 659054.859375\n",
      "161 liver: 1294054.740524292\n",
      "161 spleen: 426326.7084121704\n",
      "437 liver: 2004894.8181152344\n",
      "437 spleen: 267578.12728881836\n",
      "415 liver: 1291755.3688049316\n",
      "415 spleen: 417594.4375991821\n",
      "101 liver: 1240700.296875\n",
      "101 spleen: 485851.234375\n",
      "80 liver: 1393765.8992919922\n",
      "80 spleen: 365007.68127441406\n",
      "37 liver: 1191518.5430158218\n",
      "37 spleen: 240335.72915628576\n",
      "368 liver: 1935077.0278930664\n",
      "368 spleen: 1055973.2368469238\n",
      "317.13250946998596\n",
      "2021-09-01 13:32:47.251503\n"
     ]
    }
   ],
   "source": [
    "t0 = time.time()\n",
    "problems = []\n",
    "times = []\n",
    "\n",
    "listMasks = [x for x in os.listdir(path_masks) if os.path.isdir(os.path.join(path_masks, x))]\n",
    "listRaters = listMasks[0:50]\n",
    "\n",
    "for eaPatientID in listMasks:\n",
    "    t1 = time.time()\n",
    "    curr_path = path_masks + str(eaPatientID)\n",
    "    fns_masks = [x for x in os.listdir(curr_path) if (x.endswith('.p') and not x.startswith(\"._\"))]\n",
    "    i_masks = np.array([x.replace(\".p\", \"\") for x in fns_masks], dtype = int)\n",
    "    mask = np.array([pickle.load(open(os.path.join(curr_path, x), \"rb\")) \n",
    "                     for x in np.array(fns_masks)[np.argsort(i_masks).astype(int)]])\n",
    "    mask = mask.transpose()\n",
    "    \n",
    "    try:\n",
    "        # get metadata from other nrrd (converted from dicom)\n",
    "        temp_nrrd = nrrd.read(path_meta + str(eaPatientID) + '.nrrd')\n",
    "        currMeta = temp_nrrd[1]\n",
    "        currMeta[\"type\"] = \"int\"\n",
    "        sizeBlock = np.prod(sum(currMeta['space directions']))\n",
    "        \n",
    "        # number of liver blocks\n",
    "        numLiverBlocks = sum(sum(sum(mask==mask_liverNum)))\n",
    "        # number of spleen blocks\n",
    "        numSpleenBlocks = sum(sum(sum(mask==mask_spleenNum)))\n",
    "        \n",
    "        print(eaPatientID + ' liver: ' + str(sizeBlock*numLiverBlocks))        \n",
    "        print(eaPatientID + ' spleen: ' + str(sizeBlock*numSpleenBlocks))\n",
    "        times.append(time.time() - t1)\n",
    "        \n",
    "    except:\n",
    "        print(eaPatientID + ': problem with nrrd meta file')\n",
    "        problems.append(eaPatientID)\n",
    "\n",
    "timeElapsed = time.time() - t0\n",
    "print(timeElapsed)\n",
    "print(datetime.datetime.now())\n"
   ]
  },
  {
   "cell_type": "code",
   "execution_count": 12,
   "metadata": {},
   "outputs": [
    {
     "data": {
      "text/plain": [
       "Text(0.5, 0, 'Seconds')"
      ]
     },
     "execution_count": 12,
     "metadata": {},
     "output_type": "execute_result"
    },
    {
     "data": {
      "image/png": "[encoded data removed]",
      "text/plain": [
       "<Figure size 432x288 with 1 Axes>"
      ]
     },
     "metadata": {
      "needs_background": "light"
     },
     "output_type": "display_data"
    }
   ],
   "source": [
    "plt.hist(times, density=True, bins=20)\n",
    "plt.title('Time to calculate volume')\n",
    "plt.ylabel('Density')\n",
    "plt.xlabel('Seconds')"
   ]
  },
  {
   "cell_type": "code",
   "execution_count": 5,
   "metadata": {},
   "outputs": [
    {
     "name": "stdout",
     "output_type": "stream",
     "text": [
      "Time per scan: \n",
      "6.606927280624707\n"
     ]
    }
   ],
   "source": [
    "print('Time per scan: ')\n",
    "print(str(timeElapsed / (len(listMasks) - len(problems))))"
   ]
  },
  {
   "cell_type": "code",
   "execution_count": 6,
   "metadata": {},
   "outputs": [
    {
     "name": "stdout",
     "output_type": "stream",
     "text": [
      "Problems:\n",
      "['alte ID werden ersetzt', 'alteID2']\n"
     ]
    }
   ],
   "source": [
    "print('Problems:')\n",
    "print(problems)"
   ]
  },
  {
   "cell_type": "code",
   "execution_count": 14,
   "metadata": {},
   "outputs": [
    {
     "name": "stdout",
     "output_type": "stream",
     "text": [
      "448 liver: 1409040.0046463013\n",
      "448 spleen: 422213.3092880249\n",
      "366 liver: 954019.7860717773\n",
      "366 spleen: 804693.7965393066\n",
      "195 liver: 900369.2448120117\n",
      "195 spleen: 113580.95651245117\n",
      "24.2494056224823\n",
      "2021-09-01 16:16:39.604418\n"
     ]
    }
   ],
   "source": [
    "t0 = time.time()\n",
    "problems = []\n",
    "times = []\n",
    "\n",
    "listMasks = ['448', '366', '195']\n",
    "\n",
    "for eaPatientID in listMasks:\n",
    "    t1 = time.time()\n",
    "    curr_path = path_masks + str(eaPatientID)\n",
    "    fns_masks = [x for x in os.listdir(curr_path) if (x.endswith('.p') and not x.startswith(\"._\"))]\n",
    "    i_masks = np.array([x.replace(\".p\", \"\") for x in fns_masks], dtype = int)\n",
    "    mask = np.array([pickle.load(open(os.path.join(curr_path, x), \"rb\")) \n",
    "                     for x in np.array(fns_masks)[np.argsort(i_masks).astype(int)]])\n",
    "    mask = mask.transpose()\n",
    "    \n",
    "    try:\n",
    "        # get metadata from other nrrd (converted from dicom)\n",
    "        temp_nrrd = nrrd.read(path_meta + str(eaPatientID) + '.nrrd')\n",
    "        currMeta = temp_nrrd[1]\n",
    "        currMeta[\"type\"] = \"int\"\n",
    "        sizeBlock = np.prod(sum(currMeta['space directions']))\n",
    "        \n",
    "        # number of liver blocks\n",
    "        numLiverBlocks = sum(sum(sum(mask==mask_liverNum)))\n",
    "        # number of spleen blocks\n",
    "        numSpleenBlocks = sum(sum(sum(mask==mask_spleenNum)))\n",
    "        \n",
    "        print(eaPatientID + ' liver: ' + str(sizeBlock*numLiverBlocks))        \n",
    "        print(eaPatientID + ' spleen: ' + str(sizeBlock*numSpleenBlocks))\n",
    "        times.append(time.time() - t1)\n",
    "        \n",
    "    except:\n",
    "        print(eaPatientID + ': problem with nrrd meta file')\n",
    "        problems.append(eaPatientID)\n",
    "\n",
    "timeElapsed = time.time() - t0\n",
    "print(timeElapsed)\n",
    "print(datetime.datetime.now())\n"
   ]
  },
  {
   "cell_type": "code",
   "execution_count": 7,
   "metadata": {},
   "outputs": [
    {
     "name": "stdout",
     "output_type": "stream",
     "text": [
      "2021-09-01 13:32:47.452638\n"
     ]
    }
   ],
   "source": [
    "print(datetime.datetime.now())"
   ]
  }
 ],
 "metadata": {
  "kernelspec": {
   "display_name": "Python 3",
   "language": "python",
   "name": "python3"
  },
  "language_info": {
   "codemirror_mode": {
    "name": "ipython",
    "version": 3
   },
   "file_extension": ".py",
   "mimetype": "text/x-python",
   "name": "python",
   "nbconvert_exporter": "python",
   "pygments_lexer": "ipython3",
   "version": "3.7.6"
  }
 },
 "nbformat": 4,
 "nbformat_minor": 4
}
