{
 "cells": [
  {
   "cell_type": "code",
   "execution_count": 1,
   "metadata": {},
   "outputs": [
    {
     "name": "stdout",
     "output_type": "stream",
     "text": [
      "2022-06-17 11:50:03.807805\n"
     ]
    }
   ],
   "source": [
    "import pickle\n",
    "import pandas as pd\n",
    "import numpy as np\n",
    "from collections import defaultdict\n",
    "from itertools import cycle\n",
    "\n",
    "from sklearn.decomposition import PCA\n",
    "from sklearn.ensemble import RandomForestRegressor\n",
    "from sklearn.ensemble import RandomForestClassifier\n",
    "from sklearn.model_selection import KFold\n",
    "from sklearn.model_selection import train_test_split\n",
    "from sklearn.model_selection import cross_val_score\n",
    "from sklearn.model_selection import StratifiedKFold\n",
    "from sklearn.model_selection import RandomizedSearchCV\n",
    "from sklearn.linear_model import LogisticRegression\n",
    "from sklearn.tree import DecisionTreeClassifier\n",
    "from sklearn.neighbors import KNeighborsClassifier\n",
    "from sklearn.discriminant_analysis import LinearDiscriminantAnalysis\n",
    "from sklearn.naive_bayes import GaussianNB\n",
    "from sklearn.svm import SVC\n",
    "from sklearn.preprocessing import label_binarize\n",
    "from sklearn.multiclass import OneVsRestClassifier\n",
    "from sklearn.metrics import roc_curve, plot_roc_curve, roc_auc_score, auc\n",
    "from sklearn.inspection import permutation_importance\n",
    "from sklearn.metrics import make_scorer\n",
    "from sklearn.metrics import accuracy_score\n",
    "from sklearn.model_selection import GridSearchCV\n",
    "from sklearn.metrics import mean_squared_error\n",
    "\n",
    "from scipy.spatial import distance\n",
    "from scipy.cluster import hierarchy\n",
    "import umap\n",
    "import umap.plot\n",
    "import networkx as nx\n",
    "import cs_umap_plot\n",
    "\n",
    "import matplotlib.pyplot as plt\n",
    "from bokeh.plotting import show, save, output_notebook, output_file\n",
    "import seaborn as sns\n",
    "\n",
    "import time\n",
    "import datetime\n",
    "\n",
    "print(datetime.datetime.now())"
   ]
  },
  {
   "cell_type": "code",
   "execution_count": 2,
   "metadata": {},
   "outputs": [],
   "source": [
    "path_data = 'data/d20220201/'\n",
    "\n",
    "# INPUTS\n",
    "fn_finalSave = path_data + 'featuresAndMeta_s20220215.p'\n",
    "fn_trainingResults = path_data + 'trainingResults_60_s20220302.p'\n",
    "fn_featureImp_cont = path_data + 'featureImportance_continuous_s20220325'\n",
    "\n",
    "# OUTPUTS\n",
    "fn_featureImp = path_data + 'featureImportance_all_s20220302'\n",
    "fn_featureImp_subset = path_data + 'featureImportance_subset_s20220302'\n",
    "\n",
    "# Generate a custom diverging colormap\n",
    "cmap = sns.diverging_palette(220, 10, as_cmap=True)\n",
    "plt.rcParams['font.family'] = 'sans-serif'\n",
    "plt.rcParams['axes.titlesize'] = 14\n",
    "plt.rcParams['font.size'] = 10\n",
    "plt.rcParams['figure.autolayout']=False"
   ]
  },
  {
   "cell_type": "code",
   "execution_count": 3,
   "metadata": {},
   "outputs": [
    {
     "data": {
      "text/plain": [
       "dict_keys(['df_rawFeatures_training', 'df_rawFeatures_validation', 'dict_normalizationFactors', 'df_zscoreFeatures_training', 'df_zscoreFeatures_validation', 'df_metadata', 'umap_raw', 'umap_zscore'])"
      ]
     },
     "execution_count": 3,
     "metadata": {},
     "output_type": "execute_result"
    }
   ],
   "source": [
    "with open(fn_finalSave, \"rb\") as input_file:\n",
    "    dict_data = pickle.load(input_file)\n",
    "\n",
    "dict_data.keys()"
   ]
  },
  {
   "cell_type": "code",
   "execution_count": 4,
   "metadata": {},
   "outputs": [],
   "source": [
    "## number of features\n",
    "dValue = 0.25\n",
    "\n",
    "# dValue can be modified to retrieve more stringent or relaxed clusters (fewer clusters, increase number)\n",
    "# 0.25 => 60 features"
   ]
  },
  {
   "cell_type": "code",
   "execution_count": null,
   "metadata": {},
   "outputs": [],
   "source": [
    "dict_data['df_metadata']"
   ]
  },
  {
   "cell_type": "code",
   "execution_count": 6,
   "metadata": {},
   "outputs": [],
   "source": [
    "# define current data\n",
    "currFeatures = dict_data['df_zscoreFeatures_training']\n",
    "tempMeta = dict_data['df_metadata']\n",
    "currMeta = tempMeta[tempMeta.index.isin(currFeatures.index)]\n",
    "\n",
    "toPredict_lre = currMeta[currMeta['decompBL']==True]['lre']\n",
    "features_lre = currFeatures[currFeatures.index.isin(toPredict_lre.index)]\n",
    "\n",
    "toPredict_lrd = currMeta[currMeta['lrd_tf']==True]['lrd']\n",
    "features_lrd = currFeatures[currFeatures.index.isin(toPredict_lrd.index)]\n",
    "\n",
    "toPredict_tfs = currMeta[currMeta['tfs_tf']==True]['tfs']\n",
    "features_tfs = currFeatures[currFeatures.index.isin(toPredict_tfs.index)]\n",
    "\n",
    "toPredict_survival = currMeta[currMeta['survival_tf']==True]['survival']\n",
    "features_survival = currFeatures[currFeatures.index.isin(toPredict_survival.index)]"
   ]
  },
  {
   "cell_type": "code",
   "execution_count": 7,
   "metadata": {},
   "outputs": [
    {
     "name": "stdout",
     "output_type": "stream",
     "text": [
      "57\n",
      "33\n",
      "33\n",
      "43\n"
     ]
    }
   ],
   "source": [
    "# define current data\n",
    "currFeatures = dict_data['df_zscoreFeatures_validation']\n",
    "tempMeta = dict_data['df_metadata']\n",
    "currMeta = tempMeta[tempMeta.index.isin(currFeatures.index)]\n",
    "\n",
    "toPredict_lre_test = currMeta[currMeta['decompBL']==True]['lre']\n",
    "features_lre_test = currFeatures[currFeatures.index.isin(toPredict_lre_test.index)]\n",
    "\n",
    "toPredict_lrd_test = currMeta[currMeta['lrd_tf']==True]['lrd']\n",
    "features_lrd_test = currFeatures[currFeatures.index.isin(toPredict_lrd_test.index)]\n",
    "\n",
    "toPredict_tfs_test = currMeta[currMeta['tfs_tf']==True]['tfs']\n",
    "features_tfs_test = currFeatures[currFeatures.index.isin(toPredict_tfs_test.index)]\n",
    "\n",
    "toPredict_survival_test = currMeta[currMeta['survival_tf']==True]['survival']\n",
    "features_survival_test = currFeatures[currFeatures.index.isin(toPredict_survival_test.index)]\n",
    "\n",
    "print(len(toPredict_lre_test))\n",
    "print(len(toPredict_lrd_test))\n",
    "print(len(toPredict_tfs_test))\n",
    "print(len(toPredict_survival_test))"
   ]
  },
  {
   "cell_type": "code",
   "execution_count": 8,
   "metadata": {},
   "outputs": [
    {
     "name": "stderr",
     "output_type": "stream",
     "text": [
      "/opt/conda/lib/python3.7/site-packages/ipykernel_launcher.py:13: UserWarning: You have used the `textcoords` kwarg, but not the `xytext` kwarg.  This can lead to surprising results.\n",
      "  del sys.path[0]\n",
      "/opt/conda/lib/python3.7/site-packages/ipykernel_launcher.py:22: UserWarning: You have used the `textcoords` kwarg, but not the `xytext` kwarg.  This can lead to surprising results.\n"
     ]
    },
    {
     "data": {
      "image/png": "[encoded data removed]",
      "text/plain": [
       "<Figure size 720x720 with 4 Axes>"
      ]
     },
     "metadata": {
      "needs_background": "light"
     },
     "output_type": "display_data"
    }
   ],
   "source": [
    "# keeping things organized\n",
    "names = ['lre', 'lrd', 'tfs', 'survival']\n",
    "featureSets = [features_lre, features_lrd, features_tfs, features_survival]\n",
    "predictSets = [toPredict_lre, toPredict_lrd, toPredict_tfs, toPredict_survival]\n",
    "featureSets_test = [features_lre_test, features_lrd_test, features_tfs_test, features_survival_test]\n",
    "predictSets_test = [toPredict_lre_test, toPredict_lrd_test, toPredict_tfs_test, toPredict_survival_test]\n",
    "\n",
    "fig, axs = plt.subplots(2,2,figsize=(10,10))\n",
    "for eaName, eaFeature, eaPredict, eaAxs in zip(names, featureSets, predictSets, [axs[0][0], axs[0][1], axs[1][0], axs[1][1]]):\n",
    "    eaAxs.hist(eaPredict, bins=20)\n",
    "    eaAxs.title.set_text(eaName)\n",
    "    annotext = \"Train: \" + str(len(eaPredict)) + \" patients\"\n",
    "    eaAxs.annotate(annotext, xy=(0.53, 0.92), textcoords='axes fraction', horizontalalignment='left')\n",
    "    \n",
    "fig.text(0.5, 0.04, 'Time (Months)', ha='center')\n",
    "fig.text(0.04, 0.5, 'Predicted', va='center', rotation='vertical')\n",
    "\n",
    "for eaName, eaFeature, eaPredict, eaAxs in zip(names, featureSets_test, predictSets_test, [axs[0][0], axs[0][1], axs[1][0], axs[1][1]]):\n",
    "    eaAxs.hist(eaPredict, bins=20)\n",
    "    eaAxs.title.set_text(eaName)\n",
    "    annotext = \"Validation: \" + str(len(eaPredict)) + \" patients\"\n",
    "    eaAxs.annotate(annotext, xy=(0.53, 0.86), textcoords='axes fraction', horizontalalignment='left')"
   ]
  },
  {
   "cell_type": "code",
   "execution_count": 9,
   "metadata": {},
   "outputs": [],
   "source": [
    "## identify redundant features\n",
    "\n",
    "# retrieve clusters using fcluster \n",
    "df_featcorr = currFeatures.astype(float).corr(method='pearson')\n",
    "d = hierarchy.distance.pdist(df_featcorr)\n",
    "L = hierarchy.linkage(d, method='complete')\n",
    "# dValue can be modified to retrieve more stringent or relaxed clusters (fewer clusters, increase number)\n",
    "clusters = hierarchy.fcluster(L, dValue*d.max(), 'distance')\n",
    "\n",
    "# store clusters in dictionary\n",
    "featCluster_dict = defaultdict(list)\n",
    "for i,cluster in enumerate(clusters):\n",
    "    featCluster_dict[cluster].append(df_featcorr.index[i])\n",
    "\n",
    "# currPlt = sns.clustermap(df_featcorr, row_linkage=L, col_linkage=L)"
   ]
  },
  {
   "cell_type": "code",
   "execution_count": 10,
   "metadata": {},
   "outputs": [
    {
     "name": "stdout",
     "output_type": "stream",
     "text": [
      "total # of features:\n",
      "2436\n",
      "# features used for model training:\n",
      "71\n"
     ]
    }
   ],
   "source": [
    "print('total # of features:')\n",
    "print(len(clusters))\n",
    "print('# features used for model training:')\n",
    "print(len(featCluster_dict))"
   ]
  },
  {
   "cell_type": "code",
   "execution_count": 11,
   "metadata": {},
   "outputs": [],
   "source": [
    "# ## use feature permutation to identify most important feature of each cluster\n",
    "# forest_importances = {}\n",
    "\n",
    "# for eaName, eaFeature, eaPredict in zip(names, featureSets, predictSets):\n",
    "#     rf = RandomForestRegressor(n_estimators = 1000, random_state = 42)\n",
    "#     rf.fit(eaFeature, eaPredict); \n",
    "    \n",
    "#     start_time = time.time()\n",
    "#     result = permutation_importance(rf, eaFeature, eaPredict, n_repeats=10, random_state=42, n_jobs=-1)\n",
    "    \n",
    "#     elapsed_time = (time.time() - start_time) / 60\n",
    "#     print(f\"Elapsed time to compute the importances: {elapsed_time:.1f} minutes\")\n",
    "\n",
    "#     forest_importances[eaName] = pd.Series(result.importances_mean, index=eaFeature.columns)"
   ]
  },
  {
   "cell_type": "code",
   "execution_count": 12,
   "metadata": {},
   "outputs": [
    {
     "data": {
      "text/plain": [
       "dict_keys(['lre', 'lrd', 'tfs', 'survival'])"
      ]
     },
     "execution_count": 12,
     "metadata": {},
     "output_type": "execute_result"
    }
   ],
   "source": [
    "with open(fn_featureImp_cont, \"rb\") as input_file:\n",
    "    forest_importances = pickle.load(input_file)\n",
    "\n",
    "forest_importances.keys()"
   ]
  },
  {
   "cell_type": "code",
   "execution_count": 13,
   "metadata": {},
   "outputs": [],
   "source": [
    "feat2keep = {'lre': [], 'lrd': [], 'tfs': [], 'survival': []}\n",
    "featClusterOrder = {'lre': [], 'lrd': [], 'tfs': [], 'survival': []}\n",
    "\n",
    "for eaCluster in featCluster_dict:\n",
    "    currFeature_i = [currFeatures.columns.get_loc(c) for c in featCluster_dict[eaCluster]]\n",
    "    for eaName, eaFeature in zip(names, featureSets):\n",
    "        currImportances = [forest_importances[eaName][c] for c in currFeature_i]\n",
    "        toKeep_i = currFeature_i[currImportances.index(max(currImportances))]\n",
    "        feat2keep[eaName].append(currFeatures.columns[toKeep_i])\n",
    "        featClusterOrder[eaName].append(eaCluster)"
   ]
  },
  {
   "cell_type": "code",
   "execution_count": 14,
   "metadata": {},
   "outputs": [
    {
     "data": {
      "text/html": [
       "<div>\n",
       "<style scoped>\n",
       "    .dataframe tbody tr th:only-of-type {\n",
       "        vertical-align: middle;\n",
       "    }\n",
       "\n",
       "    .dataframe tbody tr th {\n",
       "        vertical-align: top;\n",
       "    }\n",
       "\n",
       "    .dataframe thead th {\n",
       "        text-align: right;\n",
       "    }\n",
       "</style>\n",
       "<table border=\"1\" class=\"dataframe\">\n",
       "  <thead>\n",
       "    <tr style=\"text-align: right;\">\n",
       "      <th>feature</th>\n",
       "      <th>original_shape_Elongation_liver</th>\n",
       "      <th>original_shape_Flatness_liver</th>\n",
       "      <th>original_shape_LeastAxisLength_liver</th>\n",
       "      <th>original_shape_MajorAxisLength_liver</th>\n",
       "      <th>original_shape_Maximum2DDiameterColumn_liver</th>\n",
       "      <th>original_shape_Maximum2DDiameterRow_liver</th>\n",
       "      <th>original_shape_Maximum2DDiameterSlice_liver</th>\n",
       "      <th>original_shape_Maximum3DDiameter_liver</th>\n",
       "      <th>original_shape_MeshVolume_liver</th>\n",
       "      <th>original_shape_MinorAxisLength_liver</th>\n",
       "      <th>...</th>\n",
       "      <th>wavelet-LLL_gldm_GrayLevelNonUniformity_spleen</th>\n",
       "      <th>wavelet-LLL_gldm_GrayLevelVariance_spleen</th>\n",
       "      <th>wavelet-LLL_gldm_HighGrayLevelEmphasis_spleen</th>\n",
       "      <th>wavelet-LLL_gldm_LargeDependenceEmphasis_spleen</th>\n",
       "      <th>wavelet-LLL_gldm_LargeDependenceHighGrayLevelEmphasis_spleen</th>\n",
       "      <th>wavelet-LLL_gldm_LargeDependenceLowGrayLevelEmphasis_spleen</th>\n",
       "      <th>wavelet-LLL_gldm_LowGrayLevelEmphasis_spleen</th>\n",
       "      <th>wavelet-LLL_gldm_SmallDependenceEmphasis_spleen</th>\n",
       "      <th>wavelet-LLL_gldm_SmallDependenceHighGrayLevelEmphasis_spleen</th>\n",
       "      <th>wavelet-LLL_gldm_SmallDependenceLowGrayLevelEmphasis_spleen</th>\n",
       "    </tr>\n",
       "  </thead>\n",
       "  <tbody>\n",
       "    <tr>\n",
       "      <th>0001</th>\n",
       "      <td>-2.08464</td>\n",
       "      <td>-1.4094</td>\n",
       "      <td>-1.67395</td>\n",
       "      <td>-0.277974</td>\n",
       "      <td>-3.13043</td>\n",
       "      <td>0.046931</td>\n",
       "      <td>-1.37827</td>\n",
       "      <td>-0.592282</td>\n",
       "      <td>-1.63322</td>\n",
       "      <td>-2.27789</td>\n",
       "      <td>...</td>\n",
       "      <td>3.33023</td>\n",
       "      <td>-0.301376</td>\n",
       "      <td>0.249605</td>\n",
       "      <td>1.31814</td>\n",
       "      <td>0.948518</td>\n",
       "      <td>-0.187091</td>\n",
       "      <td>-0.540164</td>\n",
       "      <td>-1.07394</td>\n",
       "      <td>-0.335506</td>\n",
       "      <td>-0.893683</td>\n",
       "    </tr>\n",
       "    <tr>\n",
       "      <th>0002</th>\n",
       "      <td>-0.861254</td>\n",
       "      <td>-1.45606</td>\n",
       "      <td>-1.65062</td>\n",
       "      <td>0.325096</td>\n",
       "      <td>-0.741276</td>\n",
       "      <td>-0.453968</td>\n",
       "      <td>0.405009</td>\n",
       "      <td>0.914123</td>\n",
       "      <td>-0.919716</td>\n",
       "      <td>-0.552609</td>\n",
       "      <td>...</td>\n",
       "      <td>-0.423589</td>\n",
       "      <td>0.323547</td>\n",
       "      <td>0.0990684</td>\n",
       "      <td>-1.51575</td>\n",
       "      <td>-0.32846</td>\n",
       "      <td>-0.877887</td>\n",
       "      <td>-0.630411</td>\n",
       "      <td>1.36822</td>\n",
       "      <td>0.484536</td>\n",
       "      <td>-0.331403</td>\n",
       "    </tr>\n",
       "    <tr>\n",
       "      <th>0004</th>\n",
       "      <td>0.113737</td>\n",
       "      <td>0.897042</td>\n",
       "      <td>0.748043</td>\n",
       "      <td>-0.229533</td>\n",
       "      <td>0.034784</td>\n",
       "      <td>-0.0921265</td>\n",
       "      <td>-0.360733</td>\n",
       "      <td>-0.213945</td>\n",
       "      <td>0.105918</td>\n",
       "      <td>-0.0368242</td>\n",
       "      <td>...</td>\n",
       "      <td>-0.0761159</td>\n",
       "      <td>-0.995994</td>\n",
       "      <td>-1.58462</td>\n",
       "      <td>0.922069</td>\n",
       "      <td>-1.32654</td>\n",
       "      <td>2.07736</td>\n",
       "      <td>2.31224</td>\n",
       "      <td>-1.20646</td>\n",
       "      <td>-1.33002</td>\n",
       "      <td>1.28071</td>\n",
       "    </tr>\n",
       "    <tr>\n",
       "      <th>0005</th>\n",
       "      <td>0.7545</td>\n",
       "      <td>1.7327</td>\n",
       "      <td>0.5137</td>\n",
       "      <td>-1.49891</td>\n",
       "      <td>-0.48089</td>\n",
       "      <td>-0.635486</td>\n",
       "      <td>-1.41674</td>\n",
       "      <td>-0.981159</td>\n",
       "      <td>-0.640536</td>\n",
       "      <td>-0.587567</td>\n",
       "      <td>...</td>\n",
       "      <td>-0.791933</td>\n",
       "      <td>0.223778</td>\n",
       "      <td>-0.732027</td>\n",
       "      <td>0.0608133</td>\n",
       "      <td>-0.540647</td>\n",
       "      <td>0.146233</td>\n",
       "      <td>0.572548</td>\n",
       "      <td>0.243719</td>\n",
       "      <td>-0.66268</td>\n",
       "      <td>1.65199</td>\n",
       "    </tr>\n",
       "    <tr>\n",
       "      <th>0006</th>\n",
       "      <td>-0.195143</td>\n",
       "      <td>1.00767</td>\n",
       "      <td>0.63432</td>\n",
       "      <td>-0.462332</td>\n",
       "      <td>-0.328225</td>\n",
       "      <td>0.0902974</td>\n",
       "      <td>-1.1443</td>\n",
       "      <td>-0.181358</td>\n",
       "      <td>-0.199893</td>\n",
       "      <td>-0.557547</td>\n",
       "      <td>...</td>\n",
       "      <td>0.138933</td>\n",
       "      <td>-0.292259</td>\n",
       "      <td>0.156821</td>\n",
       "      <td>0.134431</td>\n",
       "      <td>0.309219</td>\n",
       "      <td>-0.378997</td>\n",
       "      <td>-0.507673</td>\n",
       "      <td>-0.368652</td>\n",
       "      <td>-0.101702</td>\n",
       "      <td>-0.593877</td>\n",
       "    </tr>\n",
       "    <tr>\n",
       "      <th>...</th>\n",
       "      <td>...</td>\n",
       "      <td>...</td>\n",
       "      <td>...</td>\n",
       "      <td>...</td>\n",
       "      <td>...</td>\n",
       "      <td>...</td>\n",
       "      <td>...</td>\n",
       "      <td>...</td>\n",
       "      <td>...</td>\n",
       "      <td>...</td>\n",
       "      <td>...</td>\n",
       "      <td>...</td>\n",
       "      <td>...</td>\n",
       "      <td>...</td>\n",
       "      <td>...</td>\n",
       "      <td>...</td>\n",
       "      <td>...</td>\n",
       "      <td>...</td>\n",
       "      <td>...</td>\n",
       "      <td>...</td>\n",
       "      <td>...</td>\n",
       "    </tr>\n",
       "    <tr>\n",
       "      <th>0506</th>\n",
       "      <td>-0.257717</td>\n",
       "      <td>-0.853527</td>\n",
       "      <td>-0.466569</td>\n",
       "      <td>0.648094</td>\n",
       "      <td>0.69879</td>\n",
       "      <td>-0.520015</td>\n",
       "      <td>0.149635</td>\n",
       "      <td>0.137478</td>\n",
       "      <td>-0.0440549</td>\n",
       "      <td>0.318936</td>\n",
       "      <td>...</td>\n",
       "      <td>-0.301696</td>\n",
       "      <td>-0.296061</td>\n",
       "      <td>-0.9145</td>\n",
       "      <td>0.396228</td>\n",
       "      <td>-0.734288</td>\n",
       "      <td>0.548307</td>\n",
       "      <td>0.501456</td>\n",
       "      <td>-0.459622</td>\n",
       "      <td>-0.809006</td>\n",
       "      <td>0.385864</td>\n",
       "    </tr>\n",
       "    <tr>\n",
       "      <th>0507</th>\n",
       "      <td>-0.362399</td>\n",
       "      <td>0.323254</td>\n",
       "      <td>2.86837</td>\n",
       "      <td>2.59495</td>\n",
       "      <td>2.88202</td>\n",
       "      <td>2.24913</td>\n",
       "      <td>1.70595</td>\n",
       "      <td>2.65584</td>\n",
       "      <td>3.68061</td>\n",
       "      <td>2.06209</td>\n",
       "      <td>...</td>\n",
       "      <td>-0.676195</td>\n",
       "      <td>0.717573</td>\n",
       "      <td>-0.501113</td>\n",
       "      <td>-0.568953</td>\n",
       "      <td>-0.670298</td>\n",
       "      <td>-0.232311</td>\n",
       "      <td>0.174741</td>\n",
       "      <td>0.427708</td>\n",
       "      <td>-0.344704</td>\n",
       "      <td>0.582632</td>\n",
       "    </tr>\n",
       "    <tr>\n",
       "      <th>0509</th>\n",
       "      <td>-0.885078</td>\n",
       "      <td>-0.850536</td>\n",
       "      <td>-0.574451</td>\n",
       "      <td>0.323198</td>\n",
       "      <td>-0.180011</td>\n",
       "      <td>-0.5914</td>\n",
       "      <td>0.300528</td>\n",
       "      <td>-0.0274553</td>\n",
       "      <td>-1.06868</td>\n",
       "      <td>-0.498134</td>\n",
       "      <td>...</td>\n",
       "      <td>4.86446</td>\n",
       "      <td>-1.2265</td>\n",
       "      <td>-0.516288</td>\n",
       "      <td>1.902</td>\n",
       "      <td>0.463998</td>\n",
       "      <td>0.856123</td>\n",
       "      <td>0.0241917</td>\n",
       "      <td>-1.75494</td>\n",
       "      <td>-0.955464</td>\n",
       "      <td>-0.791541</td>\n",
       "    </tr>\n",
       "    <tr>\n",
       "      <th>0510</th>\n",
       "      <td>-0.027368</td>\n",
       "      <td>0.254931</td>\n",
       "      <td>0.360215</td>\n",
       "      <td>0.0330761</td>\n",
       "      <td>-0.679804</td>\n",
       "      <td>0.318463</td>\n",
       "      <td>0.470054</td>\n",
       "      <td>-0.0861664</td>\n",
       "      <td>0.0953623</td>\n",
       "      <td>0.0569785</td>\n",
       "      <td>...</td>\n",
       "      <td>3.73466</td>\n",
       "      <td>0.35438</td>\n",
       "      <td>0.727543</td>\n",
       "      <td>-0.142837</td>\n",
       "      <td>0.609916</td>\n",
       "      <td>-0.645006</td>\n",
       "      <td>-0.802108</td>\n",
       "      <td>-0.400723</td>\n",
       "      <td>0.370431</td>\n",
       "      <td>-1.0263</td>\n",
       "    </tr>\n",
       "    <tr>\n",
       "      <th>0513</th>\n",
       "      <td>-0.717097</td>\n",
       "      <td>-0.235731</td>\n",
       "      <td>-1.01725</td>\n",
       "      <td>-1.10956</td>\n",
       "      <td>-0.69906</td>\n",
       "      <td>-1.95849</td>\n",
       "      <td>-1.21145</td>\n",
       "      <td>-1.1277</td>\n",
       "      <td>-1.45235</td>\n",
       "      <td>-1.54815</td>\n",
       "      <td>...</td>\n",
       "      <td>0.178327</td>\n",
       "      <td>-0.161206</td>\n",
       "      <td>0.587898</td>\n",
       "      <td>0.726336</td>\n",
       "      <td>1.01672</td>\n",
       "      <td>-0.421262</td>\n",
       "      <td>-0.644156</td>\n",
       "      <td>-0.631522</td>\n",
       "      <td>0.0239959</td>\n",
       "      <td>-0.809472</td>\n",
       "    </tr>\n",
       "  </tbody>\n",
       "</table>\n",
       "<p>190 rows × 2436 columns</p>\n",
       "</div>"
      ],
      "text/plain": [
       "feature original_shape_Elongation_liver original_shape_Flatness_liver  \\\n",
       "0001                           -2.08464                       -1.4094   \n",
       "0002                          -0.861254                      -1.45606   \n",
       "0004                           0.113737                      0.897042   \n",
       "0005                             0.7545                        1.7327   \n",
       "0006                          -0.195143                       1.00767   \n",
       "...                                 ...                           ...   \n",
       "0506                          -0.257717                     -0.853527   \n",
       "0507                          -0.362399                      0.323254   \n",
       "0509                          -0.885078                     -0.850536   \n",
       "0510                          -0.027368                      0.254931   \n",
       "0513                          -0.717097                     -0.235731   \n",
       "\n",
       "feature original_shape_LeastAxisLength_liver  \\\n",
       "0001                                -1.67395   \n",
       "0002                                -1.65062   \n",
       "0004                                0.748043   \n",
       "0005                                  0.5137   \n",
       "0006                                 0.63432   \n",
       "...                                      ...   \n",
       "0506                               -0.466569   \n",
       "0507                                 2.86837   \n",
       "0509                               -0.574451   \n",
       "0510                                0.360215   \n",
       "0513                                -1.01725   \n",
       "\n",
       "feature original_shape_MajorAxisLength_liver  \\\n",
       "0001                               -0.277974   \n",
       "0002                                0.325096   \n",
       "0004                               -0.229533   \n",
       "0005                                -1.49891   \n",
       "0006                               -0.462332   \n",
       "...                                      ...   \n",
       "0506                                0.648094   \n",
       "0507                                 2.59495   \n",
       "0509                                0.323198   \n",
       "0510                               0.0330761   \n",
       "0513                                -1.10956   \n",
       "\n",
       "feature original_shape_Maximum2DDiameterColumn_liver  \\\n",
       "0001                                        -3.13043   \n",
       "0002                                       -0.741276   \n",
       "0004                                        0.034784   \n",
       "0005                                        -0.48089   \n",
       "0006                                       -0.328225   \n",
       "...                                              ...   \n",
       "0506                                         0.69879   \n",
       "0507                                         2.88202   \n",
       "0509                                       -0.180011   \n",
       "0510                                       -0.679804   \n",
       "0513                                        -0.69906   \n",
       "\n",
       "feature original_shape_Maximum2DDiameterRow_liver  \\\n",
       "0001                                     0.046931   \n",
       "0002                                    -0.453968   \n",
       "0004                                   -0.0921265   \n",
       "0005                                    -0.635486   \n",
       "0006                                    0.0902974   \n",
       "...                                           ...   \n",
       "0506                                    -0.520015   \n",
       "0507                                      2.24913   \n",
       "0509                                      -0.5914   \n",
       "0510                                     0.318463   \n",
       "0513                                     -1.95849   \n",
       "\n",
       "feature original_shape_Maximum2DDiameterSlice_liver  \\\n",
       "0001                                       -1.37827   \n",
       "0002                                       0.405009   \n",
       "0004                                      -0.360733   \n",
       "0005                                       -1.41674   \n",
       "0006                                        -1.1443   \n",
       "...                                             ...   \n",
       "0506                                       0.149635   \n",
       "0507                                        1.70595   \n",
       "0509                                       0.300528   \n",
       "0510                                       0.470054   \n",
       "0513                                       -1.21145   \n",
       "\n",
       "feature original_shape_Maximum3DDiameter_liver  \\\n",
       "0001                                 -0.592282   \n",
       "0002                                  0.914123   \n",
       "0004                                 -0.213945   \n",
       "0005                                 -0.981159   \n",
       "0006                                 -0.181358   \n",
       "...                                        ...   \n",
       "0506                                  0.137478   \n",
       "0507                                   2.65584   \n",
       "0509                                -0.0274553   \n",
       "0510                                -0.0861664   \n",
       "0513                                   -1.1277   \n",
       "\n",
       "feature original_shape_MeshVolume_liver original_shape_MinorAxisLength_liver  \\\n",
       "0001                           -1.63322                             -2.27789   \n",
       "0002                          -0.919716                            -0.552609   \n",
       "0004                           0.105918                           -0.0368242   \n",
       "0005                          -0.640536                            -0.587567   \n",
       "0006                          -0.199893                            -0.557547   \n",
       "...                                 ...                                  ...   \n",
       "0506                         -0.0440549                             0.318936   \n",
       "0507                            3.68061                              2.06209   \n",
       "0509                           -1.06868                            -0.498134   \n",
       "0510                          0.0953623                            0.0569785   \n",
       "0513                           -1.45235                             -1.54815   \n",
       "\n",
       "feature  ... wavelet-LLL_gldm_GrayLevelNonUniformity_spleen  \\\n",
       "0001     ...                                        3.33023   \n",
       "0002     ...                                      -0.423589   \n",
       "0004     ...                                     -0.0761159   \n",
       "0005     ...                                      -0.791933   \n",
       "0006     ...                                       0.138933   \n",
       "...      ...                                            ...   \n",
       "0506     ...                                      -0.301696   \n",
       "0507     ...                                      -0.676195   \n",
       "0509     ...                                        4.86446   \n",
       "0510     ...                                        3.73466   \n",
       "0513     ...                                       0.178327   \n",
       "\n",
       "feature wavelet-LLL_gldm_GrayLevelVariance_spleen  \\\n",
       "0001                                    -0.301376   \n",
       "0002                                     0.323547   \n",
       "0004                                    -0.995994   \n",
       "0005                                     0.223778   \n",
       "0006                                    -0.292259   \n",
       "...                                           ...   \n",
       "0506                                    -0.296061   \n",
       "0507                                     0.717573   \n",
       "0509                                      -1.2265   \n",
       "0510                                      0.35438   \n",
       "0513                                    -0.161206   \n",
       "\n",
       "feature wavelet-LLL_gldm_HighGrayLevelEmphasis_spleen  \\\n",
       "0001                                         0.249605   \n",
       "0002                                        0.0990684   \n",
       "0004                                         -1.58462   \n",
       "0005                                        -0.732027   \n",
       "0006                                         0.156821   \n",
       "...                                               ...   \n",
       "0506                                          -0.9145   \n",
       "0507                                        -0.501113   \n",
       "0509                                        -0.516288   \n",
       "0510                                         0.727543   \n",
       "0513                                         0.587898   \n",
       "\n",
       "feature wavelet-LLL_gldm_LargeDependenceEmphasis_spleen  \\\n",
       "0001                                            1.31814   \n",
       "0002                                           -1.51575   \n",
       "0004                                           0.922069   \n",
       "0005                                          0.0608133   \n",
       "0006                                           0.134431   \n",
       "...                                                 ...   \n",
       "0506                                           0.396228   \n",
       "0507                                          -0.568953   \n",
       "0509                                              1.902   \n",
       "0510                                          -0.142837   \n",
       "0513                                           0.726336   \n",
       "\n",
       "feature wavelet-LLL_gldm_LargeDependenceHighGrayLevelEmphasis_spleen  \\\n",
       "0001                                              0.948518             \n",
       "0002                                              -0.32846             \n",
       "0004                                              -1.32654             \n",
       "0005                                             -0.540647             \n",
       "0006                                              0.309219             \n",
       "...                                                    ...             \n",
       "0506                                             -0.734288             \n",
       "0507                                             -0.670298             \n",
       "0509                                              0.463998             \n",
       "0510                                              0.609916             \n",
       "0513                                               1.01672             \n",
       "\n",
       "feature wavelet-LLL_gldm_LargeDependenceLowGrayLevelEmphasis_spleen  \\\n",
       "0001                                             -0.187091            \n",
       "0002                                             -0.877887            \n",
       "0004                                               2.07736            \n",
       "0005                                              0.146233            \n",
       "0006                                             -0.378997            \n",
       "...                                                    ...            \n",
       "0506                                              0.548307            \n",
       "0507                                             -0.232311            \n",
       "0509                                              0.856123            \n",
       "0510                                             -0.645006            \n",
       "0513                                             -0.421262            \n",
       "\n",
       "feature wavelet-LLL_gldm_LowGrayLevelEmphasis_spleen  \\\n",
       "0001                                       -0.540164   \n",
       "0002                                       -0.630411   \n",
       "0004                                         2.31224   \n",
       "0005                                        0.572548   \n",
       "0006                                       -0.507673   \n",
       "...                                              ...   \n",
       "0506                                        0.501456   \n",
       "0507                                        0.174741   \n",
       "0509                                       0.0241917   \n",
       "0510                                       -0.802108   \n",
       "0513                                       -0.644156   \n",
       "\n",
       "feature wavelet-LLL_gldm_SmallDependenceEmphasis_spleen  \\\n",
       "0001                                           -1.07394   \n",
       "0002                                            1.36822   \n",
       "0004                                           -1.20646   \n",
       "0005                                           0.243719   \n",
       "0006                                          -0.368652   \n",
       "...                                                 ...   \n",
       "0506                                          -0.459622   \n",
       "0507                                           0.427708   \n",
       "0509                                           -1.75494   \n",
       "0510                                          -0.400723   \n",
       "0513                                          -0.631522   \n",
       "\n",
       "feature wavelet-LLL_gldm_SmallDependenceHighGrayLevelEmphasis_spleen  \\\n",
       "0001                                             -0.335506             \n",
       "0002                                              0.484536             \n",
       "0004                                              -1.33002             \n",
       "0005                                              -0.66268             \n",
       "0006                                             -0.101702             \n",
       "...                                                    ...             \n",
       "0506                                             -0.809006             \n",
       "0507                                             -0.344704             \n",
       "0509                                             -0.955464             \n",
       "0510                                              0.370431             \n",
       "0513                                             0.0239959             \n",
       "\n",
       "feature wavelet-LLL_gldm_SmallDependenceLowGrayLevelEmphasis_spleen  \n",
       "0001                                             -0.893683           \n",
       "0002                                             -0.331403           \n",
       "0004                                               1.28071           \n",
       "0005                                               1.65199           \n",
       "0006                                             -0.593877           \n",
       "...                                                    ...           \n",
       "0506                                              0.385864           \n",
       "0507                                              0.582632           \n",
       "0509                                             -0.791541           \n",
       "0510                                               -1.0263           \n",
       "0513                                             -0.809472           \n",
       "\n",
       "[190 rows x 2436 columns]"
      ]
     },
     "execution_count": 14,
     "metadata": {},
     "output_type": "execute_result"
    }
   ],
   "source": [
    "eaFeature"
   ]
  },
  {
   "cell_type": "code",
   "execution_count": 15,
   "metadata": {},
   "outputs": [
    {
     "name": "stdout",
     "output_type": "stream",
     "text": [
      "lre\n"
     ]
    },
    {
     "name": "stderr",
     "output_type": "stream",
     "text": [
      "/opt/conda/lib/python3.7/site-packages/ipykernel_launcher.py:31: UserWarning: You have used the `textcoords` kwarg, but not the `xytext` kwarg.  This can lead to surprising results.\n"
     ]
    },
    {
     "name": "stdout",
     "output_type": "stream",
     "text": [
      "lrd\n"
     ]
    },
    {
     "name": "stderr",
     "output_type": "stream",
     "text": [
      "/opt/conda/lib/python3.7/site-packages/ipykernel_launcher.py:31: UserWarning: You have used the `textcoords` kwarg, but not the `xytext` kwarg.  This can lead to surprising results.\n"
     ]
    },
    {
     "name": "stdout",
     "output_type": "stream",
     "text": [
      "tfs\n"
     ]
    },
    {
     "name": "stderr",
     "output_type": "stream",
     "text": [
      "/opt/conda/lib/python3.7/site-packages/ipykernel_launcher.py:31: UserWarning: You have used the `textcoords` kwarg, but not the `xytext` kwarg.  This can lead to surprising results.\n"
     ]
    },
    {
     "name": "stdout",
     "output_type": "stream",
     "text": [
      "survival\n"
     ]
    },
    {
     "name": "stderr",
     "output_type": "stream",
     "text": [
      "/opt/conda/lib/python3.7/site-packages/ipykernel_launcher.py:31: UserWarning: You have used the `textcoords` kwarg, but not the `xytext` kwarg.  This can lead to surprising results.\n"
     ]
    },
    {
     "data": {
      "text/plain": [
       "Text(0.04, 0.5, 'Predicted (Months)')"
      ]
     },
     "execution_count": 15,
     "metadata": {},
     "output_type": "execute_result"
    },
    {
     "data": {
      "image/png": "[encoded data removed]",
      "text/plain": [
       "<Figure size 720x720 with 4 Axes>"
      ]
     },
     "metadata": {
      "needs_background": "light"
     },
     "output_type": "display_data"
    }
   ],
   "source": [
    "models = {}\n",
    "\n",
    "fig, axs = plt.subplots(2,2,figsize=(10,10))\n",
    "for eaName, eaFeature, eaPredict, eaAxs in zip(names, featureSets, predictSets, [axs[0][0], axs[0][1], axs[1][0], axs[1][1]]):\n",
    "    features = eaFeature[feat2keep[eaName]]\n",
    "    toPredict = eaPredict\n",
    "    start_time = time.time()\n",
    "    \n",
    "    X_train, X_test, y_train, y_test = train_test_split(features, toPredict, test_size=0.2, random_state=1)\n",
    "\n",
    "    rfr = RandomForestRegressor()\n",
    "    rfr.fit(features, toPredict)\n",
    "\n",
    "    #elapsed_time = (time.time() - start_time) / 60\n",
    "    print(eaName)\n",
    "    #print(f\"Elapsed time to build RandomForestRegressor: {elapsed_time:.1f} minutes\")\n",
    "    \n",
    "    score = rfr.score(features, toPredict)\n",
    "    predicted = rfr.predict(features)\n",
    "    mse = mean_squared_error(toPredict, predicted)\n",
    "    \n",
    "#     print(\"R-squared:\", score)\n",
    "#     print(\"MSE: \", mse)\n",
    "#     print(\"RMSE: \", mse*(1/2.0))\n",
    "    \n",
    "    eaAxs.title.set_text(eaName)\n",
    "    eaAxs.scatter(toPredict, predicted)\n",
    "    \n",
    "    # add scores\n",
    "    scoreText = \"R-squared: %.2f \\nMSE: %.2f \\nRMSE: %.2f\" %(score,mse,mse*(1/2.0))\n",
    "    eaAxs.annotate(scoreText, xy=(0.63, 0.02), textcoords='axes fraction', horizontalalignment='left')\n",
    "    \n",
    "    # add line\n",
    "    lims = [\n",
    "        np.min([eaAxs.get_xlim(), eaAxs.get_ylim()]),  # min of both axes\n",
    "        np.max([eaAxs.get_xlim(), eaAxs.get_ylim()]),  # max of both axes\n",
    "    ]\n",
    "    eaAxs.plot(lims, lims, 'k-', alpha=0.75, zorder=0)\n",
    "    eaAxs.set_aspect('equal')\n",
    "    eaAxs.set_xlim(lims)\n",
    "    eaAxs.set_ylim(lims)\n",
    "    \n",
    "    # make pretty\n",
    "    eaAxs.spines['top'].set_visible(False)\n",
    "    eaAxs.spines['right'].set_visible(False)\n",
    "\n",
    "    models[eaName] = rfr\n",
    "\n",
    "fig.text(0.5, 0.04, 'Original (Months)', ha='center')\n",
    "fig.text(0.04, 0.5, 'Predicted (Months)', va='center', rotation='vertical')"
   ]
  },
  {
   "cell_type": "code",
   "execution_count": 19,
   "metadata": {},
   "outputs": [
    {
     "name": "stdout",
     "output_type": "stream",
     "text": [
      "lre\n"
     ]
    },
    {
     "name": "stderr",
     "output_type": "stream",
     "text": [
      "/opt/conda/lib/python3.7/site-packages/ipykernel_launcher.py:31: UserWarning: You have used the `textcoords` kwarg, but not the `xytext` kwarg.  This can lead to surprising results.\n"
     ]
    },
    {
     "name": "stdout",
     "output_type": "stream",
     "text": [
      "lrd\n"
     ]
    },
    {
     "name": "stderr",
     "output_type": "stream",
     "text": [
      "/opt/conda/lib/python3.7/site-packages/ipykernel_launcher.py:31: UserWarning: You have used the `textcoords` kwarg, but not the `xytext` kwarg.  This can lead to surprising results.\n"
     ]
    },
    {
     "name": "stdout",
     "output_type": "stream",
     "text": [
      "tfs\n"
     ]
    },
    {
     "name": "stderr",
     "output_type": "stream",
     "text": [
      "/opt/conda/lib/python3.7/site-packages/ipykernel_launcher.py:31: UserWarning: You have used the `textcoords` kwarg, but not the `xytext` kwarg.  This can lead to surprising results.\n"
     ]
    },
    {
     "name": "stdout",
     "output_type": "stream",
     "text": [
      "survival\n"
     ]
    },
    {
     "name": "stderr",
     "output_type": "stream",
     "text": [
      "/opt/conda/lib/python3.7/site-packages/ipykernel_launcher.py:31: UserWarning: You have used the `textcoords` kwarg, but not the `xytext` kwarg.  This can lead to surprising results.\n"
     ]
    },
    {
     "data": {
      "text/plain": [
       "Text(0.04, 0.5, 'Predicted (Months)')"
      ]
     },
     "execution_count": 19,
     "metadata": {},
     "output_type": "execute_result"
    },
    {
     "data": {
      "image/png": "[encoded data removed]",
      "text/plain": [
       "<Figure size 720x720 with 4 Axes>"
      ]
     },
     "metadata": {
      "needs_background": "light"
     },
     "output_type": "display_data"
    }
   ],
   "source": [
    "models = {}\n",
    "\n",
    "fig, axs = plt.subplots(2,2,figsize=(10,10))\n",
    "for eaName, eaFeature, eaPredict, eaAxs in zip(names, featureSets, predictSets, [axs[0][0], axs[0][1], axs[1][0], axs[1][1]]):\n",
    "    features = eaFeature[feat2keep[eaName]]\n",
    "    toPredict = eaPredict\n",
    "    start_time = time.time()\n",
    "    \n",
    "    X_train, X_test, y_train, y_test = train_test_split(features, toPredict, test_size=0.2, random_state=1)\n",
    "\n",
    "    rfr = RandomForestRegressor()\n",
    "    rfr.fit(X_train, y_train)\n",
    "\n",
    "    #elapsed_time = (time.time() - start_time) / 60\n",
    "    print(eaName)\n",
    "    #print(f\"Elapsed time to build RandomForestRegressor: {elapsed_time:.1f} minutes\")\n",
    "    \n",
    "    score = rfr.score(X_test, y_test)\n",
    "    predicted = rfr.predict(X_test)\n",
    "    mse = mean_squared_error(y_test, predicted)\n",
    "    \n",
    "#     print(\"R-squared:\", score)\n",
    "#     print(\"MSE: \", mse)\n",
    "#     print(\"RMSE: \", mse*(1/2.0))\n",
    "    \n",
    "    eaAxs.title.set_text(eaName)\n",
    "    eaAxs.scatter(y_test, predicted)\n",
    "    \n",
    "    # add scores\n",
    "    scoreText = \"R-squared: %.2f \\nMSE: %.2f \\nRMSE: %.2f\" %(score,mse,mse*(1/2.0))\n",
    "    eaAxs.annotate(scoreText, xy=(0.63, 0.02), textcoords='axes fraction', horizontalalignment='left')\n",
    "    \n",
    "    # add line\n",
    "    lims = [\n",
    "        np.min([eaAxs.get_xlim(), eaAxs.get_ylim()]),  # min of both axes\n",
    "        np.max([eaAxs.get_xlim(), eaAxs.get_ylim()]),  # max of both axes\n",
    "    ]\n",
    "    eaAxs.plot(lims, lims, 'k-', alpha=0.75, zorder=0)\n",
    "    eaAxs.set_aspect('equal')\n",
    "    eaAxs.set_xlim(lims)\n",
    "    eaAxs.set_ylim(lims)\n",
    "    \n",
    "    # make pretty\n",
    "    eaAxs.spines['top'].set_visible(False)\n",
    "    eaAxs.spines['right'].set_visible(False)\n",
    "\n",
    "    models[eaName] = rfr\n",
    "\n",
    "fig.text(0.5, 0.04, 'Original (Months)', ha='center')\n",
    "fig.text(0.04, 0.5, 'Predicted (Months)', va='center', rotation='vertical')"
   ]
  },
  {
   "cell_type": "code",
   "execution_count": 20,
   "metadata": {
    "scrolled": true
   },
   "outputs": [
    {
     "name": "stdout",
     "output_type": "stream",
     "text": [
      "R-squared: -1.3380907935771678\n",
      "MSE:  1659.8602656059456\n",
      "RMSE:  829.9301328029728\n",
      "R-squared: -1.319575237728678\n",
      "MSE:  1299.033382671488\n",
      "RMSE:  649.516691335744\n",
      "R-squared: -2.167352336644384\n",
      "MSE:  1291.2429676543873\n",
      "RMSE:  645.6214838271936\n",
      "R-squared: 0.24076745846934478\n",
      "MSE:  1508.1048473368921\n",
      "RMSE:  754.0524236684461\n"
     ]
    },
    {
     "name": "stderr",
     "output_type": "stream",
     "text": [
      "/opt/conda/lib/python3.7/site-packages/ipykernel_launcher.py:21: UserWarning: You have used the `textcoords` kwarg, but not the `xytext` kwarg.  This can lead to surprising results.\n",
      "/opt/conda/lib/python3.7/site-packages/ipykernel_launcher.py:21: UserWarning: You have used the `textcoords` kwarg, but not the `xytext` kwarg.  This can lead to surprising results.\n",
      "/opt/conda/lib/python3.7/site-packages/ipykernel_launcher.py:21: UserWarning: You have used the `textcoords` kwarg, but not the `xytext` kwarg.  This can lead to surprising results.\n",
      "/opt/conda/lib/python3.7/site-packages/ipykernel_launcher.py:21: UserWarning: You have used the `textcoords` kwarg, but not the `xytext` kwarg.  This can lead to surprising results.\n"
     ]
    },
    {
     "data": {
      "text/plain": [
       "Text(0.04, 0.5, 'Predicted')"
      ]
     },
     "execution_count": 20,
     "metadata": {},
     "output_type": "execute_result"
    },
    {
     "data": {
      "image/png": "[encoded data removed]",
      "text/plain": [
       "<Figure size 720x720 with 4 Axes>"
      ]
     },
     "metadata": {
      "needs_background": "light"
     },
     "output_type": "display_data"
    }
   ],
   "source": [
    "fig, axs = plt.subplots(2,2,figsize=(10,10))\n",
    "\n",
    "for eaName, eaFeature, eaPredict, eaAxs in zip(names, featureSets_test, predictSets_test, [axs[0][0], axs[0][1], axs[1][0], axs[1][1]]):\n",
    "    features = eaFeature[feat2keep[eaName]]\n",
    "    toPredict = eaPredict\n",
    "    currModel = models[eaName]\n",
    "    \n",
    "    score = rfr.score(features, toPredict)\n",
    "    predicted = rfr.predict(features)\n",
    "    mse = mean_squared_error(toPredict, predicted)\n",
    "    \n",
    "    print(\"R-squared:\", score)\n",
    "    print(\"MSE: \", mse)\n",
    "    print(\"RMSE: \", mse*(1/2.0))\n",
    "    \n",
    "    eaAxs.title.set_text(eaName)\n",
    "    eaAxs.scatter(toPredict, predicted)\n",
    "    \n",
    "    # add scores\n",
    "    scoreText = \"R-squared: %.2f \\nMSE: %.2f \\nRMSE: %.2f\" %(score,mse,mse*(1/2.0))\n",
    "    eaAxs.annotate(scoreText, xy=(0.63, 0.02), textcoords='axes fraction', horizontalalignment='left')\n",
    "    \n",
    "    # add line\n",
    "    lims = [\n",
    "        np.min([eaAxs.get_xlim(), eaAxs.get_ylim()]),  # min of both axes\n",
    "        np.max([eaAxs.get_xlim(), eaAxs.get_ylim()]),  # max of both axes\n",
    "    ]\n",
    "    eaAxs.plot(lims, lims, 'k-', alpha=0.75, zorder=0)\n",
    "    eaAxs.set_aspect('equal')\n",
    "    eaAxs.set_xlim(lims)\n",
    "    eaAxs.set_ylim(lims)\n",
    "    \n",
    "    # make pretty\n",
    "    eaAxs.spines['top'].set_visible(False)\n",
    "    eaAxs.spines['right'].set_visible(False)\n",
    "\n",
    "fig.text(0.5, 0.04, 'Original', ha='center')\n",
    "fig.text(0.04, 0.5, 'Predicted', va='center', rotation='vertical')\n"
   ]
  },
  {
   "cell_type": "code",
   "execution_count": 27,
   "metadata": {},
   "outputs": [
    {
     "ename": "NameError",
     "evalue": "name 'rf' is not defined",
     "output_type": "error",
     "traceback": [
      "\u001b[0;31m---------------------------------------------------------------------------\u001b[0m",
      "\u001b[0;31mNameError\u001b[0m                                 Traceback (most recent call last)",
      "\u001b[0;32m<ipython-input-27-8af064298e97>\u001b[0m in \u001b[0;36m<module>\u001b[0;34m()\u001b[0m\n\u001b[0;32m----> 1\u001b[0;31m \u001b[0m_\u001b[0m \u001b[0;34m=\u001b[0m \u001b[0mtree\u001b[0m\u001b[0;34m.\u001b[0m\u001b[0mplot_tree\u001b[0m\u001b[0;34m(\u001b[0m\u001b[0mrf\u001b[0m\u001b[0;34m.\u001b[0m\u001b[0mestimators_\u001b[0m\u001b[0;34m[\u001b[0m\u001b[0;36m0\u001b[0m\u001b[0;34m]\u001b[0m\u001b[0;34m,\u001b[0m \u001b[0mfeature_names\u001b[0m\u001b[0;34m=\u001b[0m\u001b[0mX\u001b[0m\u001b[0;34m.\u001b[0m\u001b[0mcolumns\u001b[0m\u001b[0;34m,\u001b[0m \u001b[0mfilled\u001b[0m\u001b[0;34m=\u001b[0m\u001b[0;32mTrue\u001b[0m\u001b[0;34m)\u001b[0m\u001b[0;34m\u001b[0m\u001b[0;34m\u001b[0m\u001b[0m\n\u001b[0m",
      "\u001b[0;31mNameError\u001b[0m: name 'rf' is not defined"
     ]
    }
   ],
   "source": [
    "_ = tree.plot_tree(rf.estimators_[0], feature_names=X.columns, filled=True)"
   ]
  },
  {
   "cell_type": "code",
   "execution_count": 17,
   "metadata": {},
   "outputs": [
    {
     "name": "stdout",
     "output_type": "stream",
     "text": [
      "2022-06-17 11:50:17.396858\n"
     ]
    }
   ],
   "source": [
    "print(datetime.datetime.now())"
   ]
  },
  {
   "cell_type": "code",
   "execution_count": null,
   "metadata": {},
   "outputs": [],
   "source": []
  }
 ],
 "metadata": {
  "kernelspec": {
   "display_name": "Python 3 (ipykernel)",
   "language": "python",
   "name": "python3"
  },
  "language_info": {
   "codemirror_mode": {
    "name": "ipython",
    "version": 3
   },
   "file_extension": ".py",
   "mimetype": "text/x-python",
   "name": "python",
   "nbconvert_exporter": "python",
   "pygments_lexer": "ipython3",
   "version": "3.12.0"
  }
 },
 "nbformat": 4,
 "nbformat_minor": 4
}
