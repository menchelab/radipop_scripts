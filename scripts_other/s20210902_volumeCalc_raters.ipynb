{
 "cells": [
  {
   "cell_type": "code",
   "execution_count": 1,
   "metadata": {},
   "outputs": [
    {
     "name": "stdout",
     "output_type": "stream",
     "text": [
      "2021-09-03 04:28:16.677834\n"
     ]
    }
   ],
   "source": [
    "import pickle\n",
    "import pandas as pd\n",
    "import numpy as np\n",
    "import nrrd\n",
    "\n",
    "import matplotlib.pyplot as plt\n",
    "import matplotlib.patches as mpatches\n",
    "from IPython.display import clear_output\n",
    "\n",
    "from radiomics import featureextractor, getTestCase\n",
    "import SimpleITK as sitk\n",
    "import subprocess\n",
    "\n",
    "import os\n",
    "import glob\n",
    "import shutil\n",
    "\n",
    "import time\n",
    "import datetime\n",
    "\n",
    "print(datetime.datetime.now())"
   ]
  },
  {
   "cell_type": "code",
   "execution_count": 2,
   "metadata": {},
   "outputs": [],
   "source": [
    "# INPUTS\n",
    "path_meta = 'data/d20210727/nrrds_metadata/'\n",
    "path_masks = 'data/d20210727/masks_training/'\n",
    "path_raters = 'data/d20210727/raters/'\n",
    "\n",
    "# TEMP PATHS\n",
    "temp_unzip = 'data/d20210727/raters/temp_unzip'\n",
    "\n",
    "# PARAMETERS\n",
    "mask_liverNum = 1\n",
    "mask_spleenNum = 2"
   ]
  },
  {
   "cell_type": "code",
   "execution_count": 3,
   "metadata": {},
   "outputs": [
    {
     "name": "stdout",
     "output_type": "stream",
     "text": [
      "Rater_1 volumes\n",
      "448 liver: 1334201.2505187988\n",
      "448 spleen: 401739.49614715576\n",
      "366 liver: 964716.1430358887\n",
      "366 spleen: 805608.7471008301\n",
      "195 liver: 894301.2326965332\n",
      "195 spleen: 112099.30288696289\n",
      "Rater_2 volumes\n",
      "448 liver: 1379066.0709228516\n",
      "448 spleen: 411750.33170318604\n",
      "366 liver: 959470.8442687988\n",
      "366 spleen: 787422.5379943848\n",
      "195 liver: 915525.3770446777\n",
      "195 spleen: 114538.10958862305\n",
      "Rater_3 volumes\n",
      "448 liver: 1351335.3782196045\n",
      "448 spleen: 406493.1530227661\n",
      "366 liver: 854484.4451904297\n",
      "366 spleen: 702434.4932556152\n",
      "195 liver: 890906.4814453125\n",
      "195 spleen: 110788.05151367188\n",
      "Rater_4 volumes\n",
      "448 liver: 1316795.837600708\n",
      "448 spleen: 397013.58435058594\n",
      "366 liver: 923686.4593505859\n",
      "366 spleen: 789907.3181152344\n",
      "195 liver: 925743.469543457\n",
      "195 spleen: 115982.29888916016\n",
      "Rater_5 volumes\n",
      "448 liver: 1338315.742980957\n",
      "448 spleen: 406621.60246276855\n",
      "366 liver: 665433.3076477051\n",
      "366 spleen: 566119.393157959\n",
      "195 liver: 908621.0645141602\n",
      "195 spleen: 114434.17630004883\n",
      "416.1207091808319\n",
      "2021-09-03 04:35:12.885565\n"
     ]
    }
   ],
   "source": [
    "t0 = time.time()\n",
    "problems = []\n",
    "times = []\n",
    "\n",
    "listMasks = ['448', '366', '195']\n",
    "listRaters = ['Rater_1', 'Rater_2', 'Rater_3', 'Rater_4', 'Rater_5']\n",
    "\n",
    "for eaRater in listRaters:\n",
    "    path_zip = path_raters + eaRater + '.zip'\n",
    "    os.mkdir(temp_unzip)\n",
    "    cmd = 'unzip %s -d %s' %(path_zip, temp_unzip)   # unzip WHAT -d WHERE\n",
    "    subprocess.run(cmd, shell=True)\n",
    "    print(eaRater + ' volumes')\n",
    "\n",
    "    for eaPatientID in listMasks:\n",
    "        t1 = time.time()\n",
    "        try:\n",
    "            curr_path = temp_unzip + '/' + eaRater + '/' + str(eaPatientID)\n",
    "            fns_masks = [x for x in os.listdir(curr_path) if (x.endswith('.p') and not x.startswith(\"._\"))]\n",
    "            i_masks = np.array([x.replace(\".p\", \"\") for x in fns_masks], dtype = int)\n",
    "            mask = np.array([pickle.load(open(os.path.join(curr_path, x), \"rb\")) \n",
    "                             for x in np.array(fns_masks)[np.argsort(i_masks).astype(int)]])\n",
    "            mask = mask.transpose()\n",
    "            \n",
    "            # make liver masks\n",
    "            mask_liver = mask.copy()\n",
    "            mask_liver[np.where(mask_liver != mask_liverNum)] = 0\n",
    "            mask_liver[np.where(mask_liver == mask_liverNum)] = 1\n",
    "            \n",
    "            try:\n",
    "                # get metadata from other nrrd (converted from dicom)\n",
    "                temp_nrrd = nrrd.read(path_meta + str(eaPatientID) + '.nrrd')\n",
    "                currMeta = temp_nrrd[1]\n",
    "                currMeta[\"type\"] = \"int\"\n",
    "                sizeBlock = np.prod(sum(currMeta['space directions']))\n",
    "\n",
    "                # number of liver blocks\n",
    "                numLiverBlocks = sum(sum(sum(mask==mask_liverNum)))\n",
    "                # number of spleen blocks\n",
    "                numSpleenBlocks = sum(sum(sum(mask==mask_spleenNum)))\n",
    "\n",
    "                print(eaPatientID + ' liver: ' + str(sizeBlock*numLiverBlocks))        \n",
    "                print(eaPatientID + ' spleen: ' + str(sizeBlock*numSpleenBlocks))        \n",
    "                times.append(time.time() - t1)\n",
    "                \n",
    "                # write nrrds for spleen and liver masks\n",
    "                path_liverMask = path_raters + 'liverMask_pid' + str(eaPatientID) + '_ra' + str(eaRater) + '.nrrd'\n",
    "                nrrd.write(path_liverMask, mask_liver, header=currMeta)\n",
    "\n",
    "            except:\n",
    "                print(eaPatientID + ': problem with nrrd meta file')\n",
    "                problems.append(eaRater + '_' + eaPatientID)\n",
    "            \n",
    "        except:\n",
    "            print(eaPatientID + ': problem with mask files')\n",
    "            problems.append(eaRater + '_' + eaPatientID)\n",
    "\n",
    "\n",
    "        \n",
    "    # remove temp_unzip files\n",
    "    shutil.rmtree(temp_unzip)\n",
    "\n",
    "timeElapsed = time.time() - t0\n",
    "print(timeElapsed)\n",
    "print(datetime.datetime.now())\n"
   ]
  },
  {
   "cell_type": "code",
   "execution_count": 4,
   "metadata": {},
   "outputs": [
    {
     "data": {
      "text/plain": [
       "Text(0.5, 0, 'Seconds')"
      ]
     },
     "execution_count": 4,
     "metadata": {},
     "output_type": "execute_result"
    },
    {
     "data": {
      "image/png": "[encoded data removed]",
      "text/plain": [
       "<Figure size 432x288 with 1 Axes>"
      ]
     },
     "metadata": {
      "needs_background": "light"
     },
     "output_type": "display_data"
    }
   ],
   "source": [
    "plt.hist(times, density=True)\n",
    "plt.title('Time to calculate volume')\n",
    "plt.ylabel('Density')\n",
    "plt.xlabel('Seconds')"
   ]
  },
  {
   "cell_type": "code",
   "execution_count": 5,
   "metadata": {},
   "outputs": [
    {
     "name": "stdout",
     "output_type": "stream",
     "text": [
      "Time per scan: \n",
      "138.7069030602773\n"
     ]
    }
   ],
   "source": [
    "print('Time per scan: ')\n",
    "print(str(timeElapsed / (len(listMasks) - len(problems))))"
   ]
  },
  {
   "cell_type": "code",
   "execution_count": 6,
   "metadata": {},
   "outputs": [
    {
     "data": {
      "text/plain": [
       "[4.868956565856934,\n",
       " 18.422707319259644,\n",
       " 14.724293231964111,\n",
       " 2.8175528049468994,\n",
       " 14.543548345565796,\n",
       " 18.4050350189209,\n",
       " 2.562317371368408,\n",
       " 7.133849382400513,\n",
       " 14.093777894973755,\n",
       " 2.5511322021484375,\n",
       " 8.05488133430481,\n",
       " 13.151850938796997,\n",
       " 2.5769975185394287,\n",
       " 5.826488018035889,\n",
       " 11.61182975769043]"
      ]
     },
     "execution_count": 6,
     "metadata": {},
     "output_type": "execute_result"
    }
   ],
   "source": [
    "times"
   ]
  },
  {
   "cell_type": "code",
   "execution_count": 7,
   "metadata": {},
   "outputs": [
    {
     "name": "stdout",
     "output_type": "stream",
     "text": [
      "Problems:\n",
      "[]\n"
     ]
    }
   ],
   "source": [
    "print('Problems:')\n",
    "print(problems)"
   ]
  },
  {
   "cell_type": "code",
   "execution_count": 8,
   "metadata": {},
   "outputs": [
    {
     "name": "stdout",
     "output_type": "stream",
     "text": [
      "2021-09-03 04:35:13.140019\n"
     ]
    }
   ],
   "source": [
    "print(datetime.datetime.now())"
   ]
  }
 ],
 "metadata": {
  "kernelspec": {
   "display_name": "Python 3",
   "language": "python",
   "name": "python3"
  },
  "language_info": {
   "codemirror_mode": {
    "name": "ipython",
    "version": 3
   },
   "file_extension": ".py",
   "mimetype": "text/x-python",
   "name": "python",
   "nbconvert_exporter": "python",
   "pygments_lexer": "ipython3",
   "version": "3.7.6"
  }
 },
 "nbformat": 4,
 "nbformat_minor": 4
}
