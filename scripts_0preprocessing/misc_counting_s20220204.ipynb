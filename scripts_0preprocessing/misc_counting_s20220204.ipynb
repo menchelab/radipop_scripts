{
 "cells": [
  {
   "cell_type": "code",
   "execution_count": 1,
   "metadata": {},
   "outputs": [
    {
     "name": "stdout",
     "output_type": "stream",
     "text": [
      "2022-02-04 10:24:35.957604\n"
     ]
    }
   ],
   "source": [
    "import pickle\n",
    "import pandas as pd\n",
    "\n",
    "import os\n",
    "import glob\n",
    "import shutil\n",
    "\n",
    "import time\n",
    "import datetime\n",
    "\n",
    "print(datetime.datetime.now())"
   ]
  },
  {
   "cell_type": "code",
   "execution_count": 2,
   "metadata": {},
   "outputs": [],
   "source": [
    "path_data = 'data/d20220201/'\n",
    "\n",
    "# INPUTS\n",
    "fn_patient = 'metadata/Celine_FINAL_RADIOPOP_DATA_with LRE Death_220126.xlsx'\n",
    "fn_patient2 = 'metadata/List Celine Radipop 20.12.21.xlsx'\n",
    "path_dcmzips = path_data + '0raw_dicom/'\n",
    "path_pngs = path_data + '0raw_png/'\n",
    "path_masks = path_data + '0raw_masks/'"
   ]
  },
  {
   "cell_type": "code",
   "execution_count": null,
   "metadata": {},
   "outputs": [],
   "source": [
    "patients_df = pd.read_excel(fn_patient, index_col=0, dtype=str)#, index_col=0, header=1, nrows=371, dtype=str)\n",
    "patients_df['patientID'] = patients_df.index\n",
    "patients_df['patientID'] = patients_df['patientID'].apply(lambda x: str(x).zfill(4))\n",
    "patients_df = patients_df.set_index('patientID')"
   ]
  },
  {
   "cell_type": "code",
   "execution_count": 4,
   "metadata": {},
   "outputs": [
    {
     "name": "stdout",
     "output_type": "stream",
     "text": [
      "# patients(training):\t 357\n",
      "# patients(validation):\t 85\n"
     ]
    }
   ],
   "source": [
    "print('# patients(training):\\t', str(len(patients_df[patients_df['Training = 0, Testing = 1']=='0'])))\n",
    "print('# patients(validation):\\t', str(len(patients_df[patients_df['Training = 0, Testing = 1']=='1'])))"
   ]
  },
  {
   "cell_type": "code",
   "execution_count": null,
   "metadata": {},
   "outputs": [],
   "source": [
    "patients_df2 = pd.read_excel(fn_patient2, index_col=0, dtype=str)#, index_col=0, header=1, nrows=371, dtype=str)\n",
    "patients_df2['temp'] = patients_df2.index\n",
    "patients_df2['patientID'] = patients_df2['temp'].str.split(\" \", n=1).str[0]\n",
    "patients_df2.patientID.fillna(patients_df2.temp, inplace=True)\n",
    "patients_df2 = patients_df2[patients_df2['patientID'].astype(int) >= 1000]\n",
    "patients_df2 = patients_df2.set_index('patientID')"
   ]
  },
  {
   "cell_type": "code",
   "execution_count": 6,
   "metadata": {},
   "outputs": [
    {
     "name": "stdout",
     "output_type": "stream",
     "text": [
      "562\n"
     ]
    }
   ],
   "source": [
    "listPatients = patients_df.index.tolist() + patients_df2.index.tolist()\n",
    "print(len(listPatients))"
   ]
  },
  {
   "cell_type": "code",
   "execution_count": 7,
   "metadata": {},
   "outputs": [],
   "source": [
    "t0 = time.time()\n",
    "\n",
    "#listMasks = [x for x in os.listdir(path_masks) if os.path.isdir(os.path.join(path_masks, x))]\n",
    "listNoPng = []\n",
    "listNoDcm = []\n",
    "listNoMask = []\n",
    "\n",
    "path_dcmzips = path_data + '0raw_dicom/'\n",
    "path_pngs = path_data + '0raw_png/'\n",
    "path_masks = path_data + '0raw_masks/'\n",
    "\n",
    "\n",
    "# for each available mask, check for raw image zip\n",
    "for eaPatient in listPatients:\n",
    "    patientID = eaPatient\n",
    "    fn_dcmzip = path_dcmzips + str(patientID) + '.zip'\n",
    "    if not os.path.exists(fn_dcmzip):\n",
    "        listNoDcm.append(patientID)\n",
    "        \n",
    "    fn_png = path_pngs + str(patientID)\n",
    "    if not os.path.exists(fn_png):\n",
    "        listNoPng.append(patientID)\n",
    "    \n",
    "    fn_masks = path_masks + str(patientID) \n",
    "    if not os.path.exists(fn_masks):\n",
    "        listNoMask.append(patientID)"
   ]
  },
  {
   "cell_type": "code",
   "execution_count": 8,
   "metadata": {},
   "outputs": [
    {
     "name": "stdout",
     "output_type": "stream",
     "text": [
      "DICOM missing\n"
     ]
    },
    {
     "data": {
      "text/plain": [
       "[]"
      ]
     },
     "execution_count": 8,
     "metadata": {},
     "output_type": "execute_result"
    }
   ],
   "source": [
    "print('DICOM missing')\n",
    "listNoDcm"
   ]
  },
  {
   "cell_type": "code",
   "execution_count": 9,
   "metadata": {},
   "outputs": [
    {
     "name": "stdout",
     "output_type": "stream",
     "text": [
      "PNG missing\n"
     ]
    },
    {
     "data": {
      "text/plain": [
       "['0196', '0485']"
      ]
     },
     "execution_count": 9,
     "metadata": {},
     "output_type": "execute_result"
    }
   ],
   "source": [
    "print('PNG missing')\n",
    "listNoPng"
   ]
  },
  {
   "cell_type": "code",
   "execution_count": 10,
   "metadata": {},
   "outputs": [
    {
     "name": "stdout",
     "output_type": "stream",
     "text": [
      "Mask missing\n"
     ]
    },
    {
     "data": {
      "text/plain": [
       "['0196', '0485']"
      ]
     },
     "execution_count": 10,
     "metadata": {},
     "output_type": "execute_result"
    }
   ],
   "source": [
    "print('Mask missing')\n",
    "listNoMask"
   ]
  }
 ],
 "metadata": {
  "kernelspec": {
   "display_name": "Python 3 (ipykernel)",
   "language": "python",
   "name": "python3"
  },
  "language_info": {
   "codemirror_mode": {
    "name": "ipython",
    "version": 3
   },
   "file_extension": ".py",
   "mimetype": "text/x-python",
   "name": "python",
   "nbconvert_exporter": "python",
   "pygments_lexer": "ipython3",
   "version": "3.12.0"
  }
 },
 "nbformat": 4,
 "nbformat_minor": 4
}
