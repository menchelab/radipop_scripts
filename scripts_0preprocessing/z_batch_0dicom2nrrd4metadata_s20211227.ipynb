{
 "cells": [
  {
   "cell_type": "markdown",
   "metadata": {},
   "source": [
    "same as s20220202_0dicom2nrrd4metadata, except list of patientIDs is specified in the script, instead of through the metadata file provided."
   ]
  },
  {
   "cell_type": "code",
   "execution_count": 1,
   "metadata": {
    "execution": {
     "iopub.execute_input": "2021-08-11T00:02:43.182643Z",
     "iopub.status.busy": "2021-08-11T00:02:43.181856Z",
     "iopub.status.idle": "2021-08-11T00:02:43.973794Z",
     "shell.execute_reply": "2021-08-11T00:02:43.973166Z"
    }
   },
   "outputs": [
    {
     "name": "stdout",
     "output_type": "stream",
     "text": [
      "2021-12-27 11:43:05.447164\n"
     ]
    }
   ],
   "source": [
    "import pickle\n",
    "import pandas as pd\n",
    "import numpy as np\n",
    "import nrrd\n",
    "\n",
    "import matplotlib.pyplot as plt\n",
    "import matplotlib.patches as mpatches\n",
    "from IPython.display import clear_output\n",
    "\n",
    "from radiomics import featureextractor, getTestCase\n",
    "import SimpleITK as sitk\n",
    "import subprocess\n",
    "\n",
    "import os\n",
    "import glob\n",
    "import shutil\n",
    "\n",
    "import time\n",
    "import datetime\n",
    "\n",
    "print(datetime.datetime.now())"
   ]
  },
  {
   "cell_type": "code",
   "execution_count": 2,
   "metadata": {
    "execution": {
     "iopub.execute_input": "2021-08-11T00:02:43.980235Z",
     "iopub.status.busy": "2021-08-11T00:02:43.979647Z",
     "iopub.status.idle": "2021-08-11T00:02:43.982894Z",
     "shell.execute_reply": "2021-08-11T00:02:43.982426Z"
    }
   },
   "outputs": [],
   "source": [
    "path_data = 'data/d20211203/training/'\n",
    "\n",
    "# INPUTS\n",
    "fn_patient = 'finalPatientList_20211220.xlsx'\n",
    "path_masks = path_data + '0raw_masks/'\n",
    "path_dcmzips = path_data + '0raw_dicom/'\n",
    "\n",
    "# TEMP PATHS\n",
    "temp_unzip = path_data + 'temp_unzip/'\n",
    "\n",
    "# OUTPUTS\n",
    "path_nrrds = path_data + 'nrrds_metadata/'"
   ]
  },
  {
   "cell_type": "code",
   "execution_count": 3,
   "metadata": {
    "execution": {
     "iopub.execute_input": "2021-08-11T00:02:44.079202Z",
     "iopub.status.busy": "2021-08-11T00:02:44.078253Z",
     "iopub.status.idle": "2021-08-11T02:58:38.463876Z",
     "shell.execute_reply": "2021-08-11T02:58:38.460057Z"
    }
   },
   "outputs": [
    {
     "name": "stdout",
     "output_type": "stream",
     "text": [
      "1007: converted, 42.249943256378174 seconds.\n",
      "1009: converted, 29.469552516937256 seconds.\n",
      "1010: converted, 49.24954581260681 seconds.\n",
      "1011: converted, 49.93803262710571 seconds.\n",
      "1012: converted, 53.72664403915405 seconds.\n",
      "1013: converted, 37.422226428985596 seconds.\n",
      "1014: converted, 33.54848790168762 seconds.\n",
      "1015: converted, 56.194701194763184 seconds.\n",
      "1016: converted, 40.314473152160645 seconds.\n",
      "1017: converted, 43.150880336761475 seconds.\n",
      "1019: converted, 40.72467565536499 seconds.\n",
      "1020: converted, 33.45247983932495 seconds.\n",
      "1022: converted, 43.24328684806824 seconds.\n",
      "1027: converted, 38.22276282310486 seconds.\n",
      "1029: converted, 45.5203275680542 seconds.\n",
      "1030: converted, 46.58263969421387 seconds.\n",
      "1031: converted, 42.36615800857544 seconds.\n",
      "1033: converted, 48.030763149261475 seconds.\n",
      "1034: converted, 39.96883821487427 seconds.\n",
      "1035: converted, 49.090473890304565 seconds.\n",
      "1037: converted, 27.83391046524048 seconds.\n",
      "1044: converted, 41.46133875846863 seconds.\n",
      "1047: converted, 46.64134645462036 seconds.\n",
      "1053: converted, 49.06137704849243 seconds.\n",
      "1054: converted, 47.16220235824585 seconds.\n",
      "1056: converted, 46.63023090362549 seconds.\n",
      "1057: converted, 43.19047546386719 seconds.\n",
      "1060: converted, 51.48209238052368 seconds.\n",
      "1064: converted, 28.716702461242676 seconds.\n",
      "1065: converted, 47.976741313934326 seconds.\n",
      "1066: converted, 42.61773991584778 seconds.\n",
      "1068: converted, 29.066699028015137 seconds.\n",
      "1069: converted, 41.77761507034302 seconds.\n",
      "1070: converted, 35.6687753200531 seconds.\n",
      "1072: converted, 45.174270153045654 seconds.\n",
      "1073: converted, 43.770729303359985 seconds.\n",
      "1074: converted, 28.154086589813232 seconds.\n",
      "1075: converted, 47.31378483772278 seconds.\n",
      "1076: converted, 46.87066841125488 seconds.\n",
      "1078: converted, 43.39789390563965 seconds.\n",
      "1079: converted, 33.865320444107056 seconds.\n",
      "1080: converted, 32.14368534088135 seconds.\n",
      "1081: converted, 36.79418992996216 seconds.\n",
      "1082: converted, 49.14886999130249 seconds.\n",
      "1083: converted, 48.117430448532104 seconds.\n",
      "1084: converted, 36.82620429992676 seconds.\n",
      "1085: converted, 51.28751611709595 seconds.\n",
      "1086: converted, 47.00528836250305 seconds.\n",
      "1087: converted, 53.81701374053955 seconds.\n",
      "1088: converted, 39.47091269493103 seconds.\n",
      "1089: converted, 31.741147994995117 seconds.\n",
      "1090: converted, 51.29344367980957 seconds.\n",
      "1091: converted, 39.27600979804993 seconds.\n",
      "1093: converted, 55.0068302154541 seconds.\n",
      "1094: converted, 40.12368154525757 seconds.\n",
      "1095: converted, 51.94934272766113 seconds.\n",
      "1096: converted, 61.96046447753906 seconds.\n",
      "1097: converted, 75.61151933670044 seconds.\n",
      "1098: converted, 45.536967515945435 seconds.\n",
      "1099: converted, 47.32676887512207 seconds.\n",
      "1104: converted, 40.57844591140747 seconds.\n",
      "1109: converted, 46.45244002342224 seconds.\n",
      "1117: converted, 40.16091561317444 seconds.\n",
      "1118: converted, 37.77120780944824 seconds.\n",
      "1121: converted, 42.77560639381409 seconds.\n",
      "1122: converted, 39.189032316207886 seconds.\n",
      "1124: converted, 39.90154314041138 seconds.\n",
      "1126: converted, 42.146085023880005 seconds.\n",
      "1128: converted, 37.673561334609985 seconds.\n",
      "1130: converted, 37.035324811935425 seconds.\n",
      "1133: converted, 36.111472845077515 seconds.\n",
      "1134: converted, 32.5230758190155 seconds.\n",
      "1136: converted, 39.11488747596741 seconds.\n"
     ]
    }
   ],
   "source": [
    "t0 = time.time()\n",
    "\n",
    "listMasks = ['1007', '1009', '1010', '1011', '1012', '1013', '1014', '1015', '1016', '1017', '1019', '1020', '1022', '1027', '1029', '1030', '1031', '1033', '1034', '1035', '1037', '1044', '1047', '1053', '1054', '1056', '1057', '1060', '1064', '1065', '1066', '1068', '1069', '1070', '1072', '1073', '1074', '1075', '1076', '1078', '1079', '1080', '1081', '1082', '1083', '1084', '1085', '1086', '1087', '1088', '1089', '1090', '1091', '1093', '1094', '1095', '1096', '1097', '1098', '1099', '1104', '1109', '1117', '1118', '1121', '1122', '1124', '1126', '1128', '1130', '1133', '1134', '1136']\n",
    "listConvSuccess = []\n",
    "listNoDcm = []\n",
    "listConvError = []\n",
    "unzipError = []\n",
    "checkTree = []\n",
    "\n",
    "# for each available mask, check for raw image zip\n",
    "for eaPatient in listMasks:\n",
    "    patientID = eaPatient\n",
    "    fn_dcmzip = path_dcmzips + str(patientID) + '.zip'\n",
    "    if os.path.exists(fn_dcmzip):\n",
    "        path_nrrdTarget = path_nrrds + str(patientID) + '.nrrd'\n",
    "        os.mkdir(temp_unzip)\n",
    "        try:\n",
    "            t1 = time.time()\n",
    "            # unzip raw image file\n",
    "            cmd = 'unzip %s -d %s' %(fn_dcmzip, temp_unzip)   # unzip WHAT -d WHERE\n",
    "            subprocess.run(cmd, shell=True)\n",
    "            try:\n",
    "                # identify signs of hidden folders\n",
    "                garbageIndicators = [\"__MACOSX\", \"/.\"]\n",
    "\n",
    "                # use os.walk to get names of all directories\n",
    "                listDir = []\n",
    "                for root, dirs, files in os.walk(temp_unzip, topdown=False):\n",
    "                    for name in [x for x in dirs]:\n",
    "                        listDir.append(os.path.join(root, name))\n",
    "                # remove directories that are hidden folders\n",
    "                notHiddenDir = [s for s in listDir if not any(x in s for x in garbageIndicators)]\n",
    "                # check if dicom files are in deepest directory\n",
    "                potentialDir = max(notHiddenDir)\n",
    "                potentialFiles = [s for s in os.listdir(potentialDir) if '.dcm' in s and not s.startswith('.')]\n",
    "                if potentialFiles: # if potentialFiles is not empty\n",
    "                    path_dcm = potentialDir\n",
    "                    # convert dicom to nrrd\n",
    "                    cmd = \"plastimatch convert --input %s --output-img %s\"%(path_dcm, path_nrrdTarget)\n",
    "                    output = subprocess.run(cmd, shell=True, capture_output=True)\n",
    "                    if not os.path.exists(path_nrrdTarget):\n",
    "                        print(patientID + ': not successful ' + str(time.time() - t1) + ' seconds.')\n",
    "                        print(output)\n",
    "                        listConvError.append(patientID)\n",
    "                    else:\n",
    "                        print(patientID + ': converted, ' + str(time.time() - t1) + ' seconds.')\n",
    "                        listConvSuccess.append(patientID)\n",
    "                else:\n",
    "                    checkTree.append()\n",
    "            except:\n",
    "                print(patientID + ': nrrd conversion error')\n",
    "                print(cmd)\n",
    "                listConvError.append(patientID)\n",
    "        except:\n",
    "            print(patientID + ': unzip error')\n",
    "            unzipError.append(patientID)\n",
    "        # remove temp unzip\n",
    "        shutil.rmtree(temp_unzip)\n",
    "    else:\n",
    "        print(patientID + ': dcm files missing')\n",
    "        listNoDcm.append(patientID)"
   ]
  },
  {
   "cell_type": "code",
   "execution_count": 4,
   "metadata": {
    "execution": {
     "iopub.execute_input": "2021-08-11T02:58:38.475915Z",
     "iopub.status.busy": "2021-08-11T02:58:38.475202Z",
     "iopub.status.idle": "2021-08-11T02:58:38.478404Z",
     "shell.execute_reply": "2021-08-11T02:58:38.478797Z"
    },
    "scrolled": true
   },
   "outputs": [
    {
     "name": "stdout",
     "output_type": "stream",
     "text": [
      "Problem with conversion\n",
      "[]\n",
      "No raw files:\n",
      "[]\n"
     ]
    }
   ],
   "source": [
    "print('Problem with conversion')\n",
    "print(listConvError)\n",
    "\n",
    "print('No raw files:')\n",
    "print(listNoDcm)"
   ]
  },
  {
   "cell_type": "code",
   "execution_count": 5,
   "metadata": {},
   "outputs": [],
   "source": [
    "# # identify signs of hidden folders\n",
    "# garbageIndicators = [\"__MACOSX\", \"/.\"]\n",
    "\n",
    "# # use os.walk to get names of all directories\n",
    "# listDir = []\n",
    "# for root, dirs, files in os.walk(temp_unzip, topdown=False):\n",
    "#     for name in [x for x in dirs]:\n",
    "#         listDir.append(os.path.join(root, name))\n",
    "# # remove directories that are hidden folders\n",
    "# notHiddenDir = [s for s in listDir if not any(x in s for x in garbageIndicators)]\n",
    "# # check if dicom files are in deepest directory\n",
    "# potentialDir = max(notHiddenDir)\n",
    "# potentialFiles = [s for s in os.listdir(potentialDir) if '.dcm' in s and not s.startswith('.')]\n",
    "\n",
    "# if potentialFiles: # if potentialFiles is not empty\n",
    "#     path_dcm = potentialDir\n",
    "# else:\n",
    "#     stillStillStillConvError.append()"
   ]
  },
  {
   "cell_type": "code",
   "execution_count": 6,
   "metadata": {
    "execution": {
     "iopub.execute_input": "2021-08-11T02:58:38.483468Z",
     "iopub.status.busy": "2021-08-11T02:58:38.482837Z",
     "iopub.status.idle": "2021-08-11T02:58:38.485391Z",
     "shell.execute_reply": "2021-08-11T02:58:38.485800Z"
    }
   },
   "outputs": [
    {
     "name": "stdout",
     "output_type": "stream",
     "text": [
      "2021-12-27 12:35:24.871731\n"
     ]
    }
   ],
   "source": [
    "print(datetime.datetime.now())"
   ]
  }
 ],
 "metadata": {
  "kernelspec": {
   "display_name": "Python 3",
   "language": "python",
   "name": "python3"
  },
  "language_info": {
   "codemirror_mode": {
    "name": "ipython",
    "version": 3
   },
   "file_extension": ".py",
   "mimetype": "text/x-python",
   "name": "python",
   "nbconvert_exporter": "python",
   "pygments_lexer": "ipython3",
   "version": "3.7.6"
  }
 },
 "nbformat": 4,
 "nbformat_minor": 4
}
