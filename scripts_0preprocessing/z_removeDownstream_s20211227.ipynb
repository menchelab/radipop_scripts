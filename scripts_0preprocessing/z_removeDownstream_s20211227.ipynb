{
 "cells": [
  {
   "cell_type": "markdown",
   "metadata": {},
   "source": [
    "Utility script to clean up files for certain IDs.  Used when part of the file processing pipeline is faulty (e.g. created an incomplete file, ...) and we want to re-run it later."
   ]
  },
  {
   "cell_type": "code",
   "execution_count": 1,
   "metadata": {},
   "outputs": [
    {
     "name": "stdout",
     "output_type": "stream",
     "text": [
      "2022-01-04 09:58:07.466763\n"
     ]
    }
   ],
   "source": [
    "import pickle\n",
    "import pandas as pd\n",
    "import numpy as np\n",
    "import nrrd\n",
    "\n",
    "import matplotlib.pyplot as plt\n",
    "\n",
    "import subprocess\n",
    "import os\n",
    "import glob\n",
    "import shutil\n",
    "\n",
    "import time\n",
    "import datetime\n",
    "\n",
    "print(datetime.datetime.now())"
   ]
  },
  {
   "cell_type": "code",
   "execution_count": 3,
   "metadata": {},
   "outputs": [],
   "source": [
    "# filenames\n",
    "ids2remove = ['0183', '0268', '0357', '0364']\n",
    "path_data = 'data/d20211203/validation/'\n",
    "\n",
    "path_meta = path_data + 'nrrds_metadata/'\n",
    "path_nrrds = path_data + 'nrrds_matched2mask/'\n",
    "path_maskLiver = path_data + 'nrrds_maskLiver/'\n",
    "path_maskSpleen = path_data + 'nrrds_maskSpleen/'\n",
    "path_features = path_data + 'features/'\n",
    "\n",
    "for eaID in ids2remove:\n",
    "    fn_meta = path_meta + str(eaID) + '.nrrd'\n",
    "    fn_nrrds = path_nrrds + str(eaID) + '.nrrd'\n",
    "    fn_maskLiver = path_maskLiver + str(eaID) + '.nrrd'\n",
    "    fn_maskSpleen = path_maskSpleen + str(eaID) + '.nrrd'\n",
    "    fn_features = path_features + str(eaID) + '.p'\n",
    "\n",
    "    os.remove(fn_meta)\n",
    "    os.remove(fn_nrrds)\n",
    "    os.remove(fn_maskLiver)\n",
    "    os.remove(fn_maskSpleen)\n",
    "    os.remove(fn_features)\n",
    "\n",
    "    "
   ]
  },
  {
   "cell_type": "code",
   "execution_count": null,
   "metadata": {},
   "outputs": [],
   "source": []
  },
  {
   "cell_type": "code",
   "execution_count": null,
   "metadata": {},
   "outputs": [],
   "source": [
    "mv 0raw_dicom/0434.zip ../validation/0raw_dicom\n",
    "mv 0raw_masks/0434 ../validation/0raw_masks\n",
    "mv 0raw_png/0434 ../validation/0raw_png"
   ]
  },
  {
   "cell_type": "code",
   "execution_count": null,
   "metadata": {},
   "outputs": [],
   "source": [
    "# cleanup\n",
    "shutil.rmtree(temp_unzip)\n",
    "shutil.rmtree(temp_target)"
   ]
  },
  {
   "cell_type": "code",
   "execution_count": null,
   "metadata": {},
   "outputs": [],
   "source": []
  }
 ],
 "metadata": {
  "kernelspec": {
   "display_name": "Python 3",
   "language": "python",
   "name": "python3"
  },
  "language_info": {
   "codemirror_mode": {
    "name": "ipython",
    "version": 3
   },
   "file_extension": ".py",
   "mimetype": "text/x-python",
   "name": "python",
   "nbconvert_exporter": "python",
   "pygments_lexer": "ipython3",
   "version": "3.7.6"
  }
 },
 "nbformat": 4,
 "nbformat_minor": 4
}
