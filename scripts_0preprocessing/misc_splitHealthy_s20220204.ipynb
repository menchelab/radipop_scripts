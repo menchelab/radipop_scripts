{
 "cells": [
  {
   "cell_type": "code",
   "execution_count": 1,
   "metadata": {},
   "outputs": [
    {
     "name": "stdout",
     "output_type": "stream",
     "text": [
      "2022-08-01 13:11:02.678153\n"
     ]
    }
   ],
   "source": [
    "import pandas as pd\n",
    "import numpy as np\n",
    "import matplotlib.pyplot as plt\n",
    "\n",
    "import time\n",
    "import datetime\n",
    "\n",
    "print(datetime.datetime.now())"
   ]
  },
  {
   "cell_type": "code",
   "execution_count": 2,
   "metadata": {},
   "outputs": [],
   "source": [
    "path_data = 'data/d20220201/'\n",
    "\n",
    "# INPUTS\n",
    "fn_patient2 = 'metadata/List Celine Radipop 20.12.21.xlsx'\n",
    "\n",
    "# OUTPUT\n",
    "fn_healthy = 'metadata/healthy4grouping.csv'"
   ]
  },
  {
   "cell_type": "code",
   "execution_count": 40,
   "metadata": {},
   "outputs": [
    {
     "data": {
      "text/plain": [
       "24"
      ]
     },
     "execution_count": 40,
     "metadata": {},
     "output_type": "execute_result"
    }
   ],
   "source": [
    "# test group\n",
    "test = [1004, 1005, 1010, 1014, 1022, 1024, 1033, 1039, 1041, 1044, 1056, 1069, 1070, 1085, 1087, 1104, 1116, 1119, 1128, 1133, 1043, 1135, 1137, 1140]\n",
    "len(test)"
   ]
  },
  {
   "cell_type": "code",
   "execution_count": 44,
   "metadata": {},
   "outputs": [
    {
     "name": "stdout",
     "output_type": "stream",
     "text": [
      "120\n"
     ]
    }
   ],
   "source": [
    "patients_df2 = pd.read_excel(fn_patient2, index_col=0, dtype=str)#, index_col=0, header=1, nrows=371, dtype=str)\n",
    "patients_df2['temp'] = patients_df2.index.astype(str)\n",
    "patients_df2['patientID'] = patients_df2['temp'].str[:4]\n",
    "patients_df2['patientID'] = patients_df2['patientID'].astype(int)\n",
    "patients_df2 = patients_df2[patients_df2['patientID'] >= 1000]\n",
    "\n",
    "# test train assignments per the list above\n",
    "patients_df2['trainTest'] = patients_df2['patientID'].apply(lambda x: 1 if x in test else 0)\n",
    "\n",
    "\n",
    "patients_df2 = patients_df2.set_index('patientID')\n",
    "\n",
    "patients_df2 = patients_df2[['trainTest', 'age at CT', 'SEX', 'CT machine group']]\n",
    "patients_df2['age at CT'] = patients_df2['age at CT'].astype(int)\n",
    "\n",
    "# clean\n",
    "col_dict = {'age at CT': 'age',\n",
    "            'SEX': 'sex',\n",
    "            'CT machine group': 'ct_grp'}\n",
    "patients_df2 = patients_df2.rename(columns=col_dict)\n",
    "\n",
    "temp_dict = {'M': '0', '1 dicom': '1', 0: '0'}\n",
    "patients_df2['sex'] = patients_df2['sex'].apply(lambda x: temp_dict[x] if x in temp_dict.keys() else x)\n",
    "patients_df2['age'] = pd.to_numeric(patients_df2['age'])\n",
    "\n",
    "\n",
    "listPatients = patients_df2.index.tolist()\n",
    "print(len(listPatients))\n",
    "\n",
    "# save\n",
    "patients_df2.to_csv(fn_healthy)"
   ]
  },
  {
   "cell_type": "code",
   "execution_count": 4,
   "metadata": {},
   "outputs": [
    {
     "name": "stdout",
     "output_type": "stream",
     "text": [
      "59.56666666666667\n",
      "CT machine group\n",
      "1    62\n",
      "2    28\n",
      "3    12\n",
      "5    18\n",
      "dtype: int64\n",
      "SEX\n",
      "0    54\n",
      "1    66\n",
      "dtype: int64\n"
     ]
    }
   ],
   "source": [
    "toDescribe = patients_df2\n",
    "print(toDescribe['age at CT'].mean())\n",
    "print(toDescribe.groupby(['CT machine group']).size())\n",
    "print(toDescribe.groupby(['SEX']).size())"
   ]
  },
  {
   "cell_type": "code",
   "execution_count": 6,
   "metadata": {},
   "outputs": [],
   "source": [
    "# 1. Age, 2. CT, 3. sex\n",
    "\n",
    "# split them by age\n",
    "temp1 = patients_df2[patients_df2.index.isin(test)]\n",
    "temp2 = patients_df2[~patients_df2.index.isin(test)]\n"
   ]
  },
  {
   "cell_type": "code",
   "execution_count": 7,
   "metadata": {},
   "outputs": [
    {
     "name": "stdout",
     "output_type": "stream",
     "text": [
      "58.958333333333336\n",
      "CT machine group\n",
      "1    0.541667\n",
      "2    0.208333\n",
      "3    0.083333\n",
      "5    0.166667\n",
      "dtype: float64\n",
      "SEX\n",
      "0    0.5\n",
      "1    0.5\n",
      "dtype: float64\n",
      "24 CTscans in group\n"
     ]
    }
   ],
   "source": [
    "toDescribe = temp1\n",
    "print(toDescribe['age at CT'].mean())\n",
    "print(toDescribe.groupby(['CT machine group']).size()/len(toDescribe))\n",
    "print(toDescribe.groupby(['SEX']).size()/len(toDescribe))\n",
    "print(str(len(toDescribe)) + ' CTscans in group')"
   ]
  },
  {
   "cell_type": "code",
   "execution_count": 8,
   "metadata": {},
   "outputs": [
    {
     "name": "stdout",
     "output_type": "stream",
     "text": [
      "59.71875\n",
      "CT machine group\n",
      "1    0.510417\n",
      "2    0.239583\n",
      "3    0.104167\n",
      "5    0.145833\n",
      "dtype: float64\n",
      "SEX\n",
      "0    0.4375\n",
      "1    0.5625\n",
      "dtype: float64\n",
      "96 CTscans in group\n"
     ]
    }
   ],
   "source": [
    "toDescribe = temp2\n",
    "print(toDescribe['age at CT'].mean())\n",
    "print(toDescribe.groupby(['CT machine group']).size()/len(toDescribe))\n",
    "print(toDescribe.groupby(['SEX']).size()/len(toDescribe))\n",
    "print(str(len(toDescribe)) + ' CTscans in group')"
   ]
  },
  {
   "cell_type": "code",
   "execution_count": 9,
   "metadata": {},
   "outputs": [
    {
     "data": {
      "text/plain": [
       "Text(0.5, 1.0, 'Validation, healthy control, n=24')"
      ]
     },
     "execution_count": 9,
     "metadata": {},
     "output_type": "execute_result"
    },
    {
     "data": {
      "image/png": "[encoded data removed]",
      "text/plain": [
       "<Figure size 432x288 with 1 Axes>"
      ]
     },
     "metadata": {
      "needs_background": "light"
     },
     "output_type": "display_data"
    }
   ],
   "source": [
    "plt.hist(temp1['age at CT'])\n",
    "plt.title('Validation, healthy control, n=24')"
   ]
  },
  {
   "cell_type": "code",
   "execution_count": 10,
   "metadata": {},
   "outputs": [
    {
     "data": {
      "text/plain": [
       "Text(0.5, 1.0, 'Training, healthy control, n=96')"
      ]
     },
     "execution_count": 10,
     "metadata": {},
     "output_type": "execute_result"
    },
    {
     "data": {
      "image/png": "[encoded data removed]",
      "text/plain": [
       "<Figure size 432x288 with 1 Axes>"
      ]
     },
     "metadata": {
      "needs_background": "light"
     },
     "output_type": "display_data"
    }
   ],
   "source": [
    "plt.hist(temp2['age at CT'])\n",
    "plt.title('Training, healthy control, n=96')"
   ]
  },
  {
   "cell_type": "code",
   "execution_count": 12,
   "metadata": {},
   "outputs": [
    {
     "name": "stdout",
     "output_type": "stream",
     "text": [
      "Training set: \n",
      "[1001, 1002, 1003, 1006, 1007, 1008, 1009, 1011, 1012, 1013, 1015, 1016, 1017, 1019, 1020, 1023, 1025, 1027, 1029, 1030, 1031, 1034, 1035, 1037, 1047, 1049, 1053, 1054, 1057, 1060, 1064, 1065, 1066, 1068, 1072, 1073, 1074, 1075, 1076, 1078, 1079, 1080, 1081, 1082, 1083, 1084, 1086, 1088, 1089, 1090, 1091, 1093, 1094, 1095, 1096, 1097, 1098, 1099, 1100, 1102, 1103, 1105, 1106, 1109, 1115, 1117, 1118, 1120, 1121, 1107, 1122, 1123, 1108, 1124, 1125, 1110, 1126, 1111, 1127, 1112, 1113, 1129, 1114, 1130, 1092, 1131, 1077, 1132, 1042, 1134, 1048, 1136, 1138, 1139, 1141, 1142]\n",
      "\n",
      "Validation set: \n",
      "[1004, 1005, 1010, 1014, 1022, 1024, 1033, 1039, 1041, 1044, 1056, 1069, 1070, 1085, 1087, 1104, 1116, 1119, 1128, 1133, 1043, 1135, 1137, 1140]\n"
     ]
    }
   ],
   "source": [
    "print('Training set: ')\n",
    "print(list(temp2.index),)\n",
    "\n",
    "print('\\nValidation set: ')\n",
    "print(list(temp1.index),)"
   ]
  },
  {
   "cell_type": "code",
   "execution_count": 13,
   "metadata": {},
   "outputs": [
    {
     "name": "stdout",
     "output_type": "stream",
     "text": [
      "2022-08-01 13:11:03.299003\n"
     ]
    }
   ],
   "source": [
    "print(datetime.datetime.now())"
   ]
  }
 ],
 "metadata": {
  "kernelspec": {
   "display_name": "Python 3 (ipykernel)",
   "language": "python",
   "name": "python3"
  },
  "language_info": {
   "codemirror_mode": {
    "name": "ipython",
    "version": 3
   },
   "file_extension": ".py",
   "mimetype": "text/x-python",
   "name": "python",
   "nbconvert_exporter": "python",
   "pygments_lexer": "ipython3",
   "version": "3.12.0"
  }
 },
 "nbformat": 4,
 "nbformat_minor": 4
}
